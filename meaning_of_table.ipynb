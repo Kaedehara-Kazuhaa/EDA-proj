{
 "cells": [
  {
   "cell_type": "markdown",
   "id": "3698911f-7fd1-4209-90bc-76addfe346e8",
   "metadata": {
    "jp-MarkdownHeadingCollapsed": true
   },
   "source": [
    "## ADDRESSES    记录与历史人物相关的地点和地址信息"
   ]
  },
  {
   "cell_type": "markdown",
   "id": "4a17d809-1fef-4bd4-9102-fcab6e941869",
   "metadata": {
    "jp-MarkdownHeadingCollapsed": true
   },
   "source": [
    "### attr"
   ]
  },
  {
   "cell_type": "code",
   "execution_count": null,
   "id": "ea5c1052-01bd-44d7-bd7c-ca7672375f35",
   "metadata": {},
   "outputs": [],
   "source": [
    "  [c_addr_id] INTEGER,\n",
    "  [c_addr_cbd] CHAR(255),\n",
    "  [c_name] CHAR(255),\n",
    "  [c_name_chn] CHAR(255),\n",
    "  [c_admin_type] CHAR(255),\n",
    "  [c_firstyear] INTEGER,\n",
    "  [c_lastyear] INTEGER,\n",
    "  [x_coord] FLOAT,\n",
    "  [y_coord] FLOAT,\n",
    "  [belongs1_ID] INTEGER,\n",
    "  [belongs1_Name] CHAR(255),\n",
    "  [belongs2_ID] INTEGER,\n",
    "  [belongs2_Name] CHAR(255),\n",
    "  [belongs3_ID] INTEGER,\n",
    "  [belongs3_Name] CHAR(255),\n",
    "  [belongs4_ID] INTEGER,\n",
    "  [belongs4_Name] CHAR(255),\n",
    "  [belongs5_ID] INTEGER,\n",
    "  [belongs5_Name] CHAR(255));"
   ]
  },
  {
   "cell_type": "markdown",
   "id": "b3267feb-b60f-45c2-9b35-4bbff458f3d3",
   "metadata": {},
   "source": [
    "### index"
   ]
  },
  {
   "cell_type": "markdown",
   "id": "ffc7f054-e48d-4b9f-ade9-49f743d03264",
   "metadata": {},
   "source": [
    "CREATE INDEX [ADDRESSES_belongs1_ID] ON [ADDRESSES]([belongs1_ID] ASC);\n",
    "CREATE INDEX [ADDRESSES_belongs2_ID] ON [ADDRESSES]([belongs2_ID] ASC);\n",
    "CREATE INDEX [ADDRESSES_belongs3_ID] ON [ADDRESSES]([belongs3_ID] ASC);\n",
    "CREATE INDEX [ADDRESSES_belongs4_ID] ON [ADDRESSES]([belongs4_ID] ASC);\n",
    "CREATE INDEX [ADDRESSES_belongs5_ID] ON [ADDRESSES]([belongs5_ID] ASC);\n",
    "CREATE INDEX [ADDRESSES_c_addr_id] ON [ADDRESSES]([c_addr_id] ASC);"
   ]
  },
  {
   "cell_type": "markdown",
   "id": "5c9e5430-9cce-4e93-9a68-a76ff443ad23",
   "metadata": {
    "jp-MarkdownHeadingCollapsed": true
   },
   "source": [
    "## ADDR_BELONGS_DATA    记录地址从属信息，使多个地点可以归属于更大的地理区域。它连接“地址表”和“地理区域表”，从而解决地点从属结构的多对多"
   ]
  },
  {
   "cell_type": "markdown",
   "id": "b905462d-a200-4334-bf92-dd6622d9870a",
   "metadata": {
    "jp-MarkdownHeadingCollapsed": true
   },
   "source": [
    "### attr"
   ]
  },
  {
   "cell_type": "markdown",
   "id": "2dc4771e-ac5f-4875-9806-7627ac9f49c9",
   "metadata": {
    "jp-MarkdownHeadingCollapsed": true
   },
   "source": [
    "  [c_addr_id] INTEGER NOT NULL,\n",
    "  [c_belongs_to] INTEGER NOT NULL,\n",
    "  [c_firstyear] INTEGER NOT NULL,\n",
    "  [c_lastyear] INTEGER NOT NULL,\n",
    "  [c_source] INTEGER,\n",
    "  [c_pages] CHAR(255),\n",
    "  [c_secondary_source_author] CHAR(255),\n",
    "  [c_notes] CHAR(255));"
   ]
  },
  {
   "cell_type": "markdown",
   "id": "89c2b294-60a1-480c-9387-9f3465377c4d",
   "metadata": {
    "jp-MarkdownHeadingCollapsed": true
   },
   "source": [
    "### index"
   ]
  },
  {
   "cell_type": "markdown",
   "id": "877b09b1-40fd-454f-b70d-cbae8e3537b7",
   "metadata": {},
   "source": [
    "CREATE INDEX [ADDR_BELONGS_DATA_PrimaryKey]\n",
    "ON [ADDR_BELONGS_DATA](\n",
    "  [c_addr_id] ASC,\n",
    "  [c_belongs_to] ASC,\n",
    "  [c_firstyear] ASC,\n",
    "  [c_lastyear] ASC);\n",
    "CREATE INDEX [ADDR_BELONGS_DATA_Belongs]\n",
    "ON [ADDR_BELONGS_DATA](\n",
    "  [c_belongs_to] ASC,\n",
    "  [c_addr_id] ASC);\n",
    "CREATE INDEX [ADDR_BELONGS_DATA_ZZZ_ADDR_BELONGSc_addr_id]\n",
    "ON [ADDR_BELONGS_DATA]([c_addr_id] ASC)"
   ]
  },
  {
   "cell_type": "markdown",
   "id": "83bbb0ea-0a43-4964-9fb5-e04f83bf76b9",
   "metadata": {},
   "source": [
    "### attr"
   ]
  },
  {
   "cell_type": "markdown",
   "id": "ecc676b2-2b6b-4dfa-9ef0-6e1d4641f84a",
   "metadata": {
    "jp-MarkdownHeadingCollapsed": true
   },
   "source": [
    "## ADDR_CODES    地点代码，方便地点查询和归类"
   ]
  },
  {
   "cell_type": "markdown",
   "id": "eb36ebf5-b709-4000-b965-ce887a0c866d",
   "metadata": {},
   "source": [
    "### attr"
   ]
  },
  {
   "cell_type": "markdown",
   "id": "ef9177cb-14e5-4b8d-b64e-e7beea400878",
   "metadata": {},
   "source": [
    "  [c_addr_id] INTEGER,\n",
    "  [c_name] CHAR(255),\n",
    "  [c_name_chn] CHAR(255),\n",
    "  [c_firstyear] INTEGER,\n",
    "  [c_lastyear] INTEGER,\n",
    "  [c_admin_type] CHAR(255),\n",
    "  [x_coord] FLOAT,\n",
    "  [y_coord] FLOAT,\n",
    "  [CHGIS_PT_ID] INTEGER,\n",
    "  [c_notes] CHAR,"
   ]
  },
  {
   "cell_type": "markdown",
   "id": "fc8bbeb4-62a6-4e7e-9bb6-08bc6b68e83b",
   "metadata": {},
   "source": [
    "### index"
   ]
  },
  {
   "cell_type": "markdown",
   "id": "56eb2b28-21d9-4caf-a948-31eed42df5e0",
   "metadata": {},
   "source": [
    "CREATE INDEX [ADDR_CODES_PrimaryKey] ON [ADDR_CODES]([c_addr_id] ASC);\n",
    "CREATE INDEX [ADDR_CODES_CHGIS_PT_ID] ON [ADDR_CODES]([CHGIS_PT_ID] ASC);"
   ]
  },
  {
   "cell_type": "markdown",
   "id": "6e0eb7c2-576e-4ba7-b479-9b4bf627adb4",
   "metadata": {
    "jp-MarkdownHeadingCollapsed": true
   },
   "source": [
    "## ADDR_PLACE_DATA    记录与历史人物相关的地点和地址信息"
   ]
  },
  {
   "cell_type": "markdown",
   "id": "1b72c75c-98a7-4d69-8aef-08c670c62566",
   "metadata": {},
   "source": [
    "### attr"
   ]
  },
  {
   "cell_type": "markdown",
   "id": "5c463989-5d50-4208-a343-5a3bb55c6381",
   "metadata": {},
   "source": [
    "  [c_addr_id] INTEGER,\n",
    "  [c_place_id] INTEGER,\n",
    "  [c_firstyear] INTEGER,\n",
    "  [c_lastyear] INTEGER);"
   ]
  },
  {
   "cell_type": "markdown",
   "id": "d2568a93-8eb6-47dd-979b-467e1e876089",
   "metadata": {},
   "source": [
    "### index"
   ]
  },
  {
   "cell_type": "markdown",
   "id": "b94df082-7b3d-4bdb-94fa-a7962cb24ef6",
   "metadata": {},
   "source": [
    "CREATE INDEX [ADDR_PLACE_DATA_c_addr_id] ON [ADDR_PLACE_DATA]([c_addr_id] ASC);\n",
    "CREATE INDEX [ADDR_PLACE_DATA_c_place_id] ON [ADDR_PLACE_DATA]([c_place_id] ASC);"
   ]
  },
  {
   "cell_type": "markdown",
   "id": "33f91736-9c44-45b0-bfb8-f9296be1f461",
   "metadata": {
    "jp-MarkdownHeadingCollapsed": true
   },
   "source": [
    "## ADDR_XY"
   ]
  },
  {
   "cell_type": "markdown",
   "id": "68ac573a-6aaa-4d2e-a449-c237f55128c7",
   "metadata": {},
   "source": [
    "### attr"
   ]
  },
  {
   "cell_type": "markdown",
   "id": "ca8149bd-53fc-4f66-804f-27348c559dbd",
   "metadata": {},
   "source": [
    "  [c_addr_id] INTEGER,\n",
    "  [x_coord] FLOAT,\n",
    "  [y_coord] FLOAT,\n",
    "  [c_source_reference] CHAR(255),\n",
    "  [c_source_id] INTEGER,\n",
    "  [c_notes] CHAR);"
   ]
  },
  {
   "cell_type": "markdown",
   "id": "e9206d52-02ed-4df8-ac60-9101a8554c7d",
   "metadata": {},
   "source": [
    "### index"
   ]
  },
  {
   "cell_type": "markdown",
   "id": "7f6fb5ac-8b53-4705-a61d-de3cec89ccff",
   "metadata": {},
   "source": [
    "CREATE INDEX [ADDR_XY_PrimaryKey] ON [ADDR_XY]([c_addr_id] ASC);\n",
    "CREATE INDEX [ADDR_XY_c_source_id] ON [ADDR_XY]([c_source_id] ASC);\n",
    "CREATE INDEX [ADDR_XY_CHGIS_PT_ID] ON [ADDR_XY]([c_source_reference] ASC);"
   ]
  },
  {
   "cell_type": "markdown",
   "id": "c11a0602-9cb0-4cfc-b34e-795fb6cab368",
   "metadata": {
    "jp-MarkdownHeadingCollapsed": true
   },
   "source": [
    "## ALTNAME_CODES 人物别名代码"
   ]
  },
  {
   "cell_type": "markdown",
   "id": "5d1786ec-7614-4cea-97ad-2b2da11d22b2",
   "metadata": {},
   "source": [
    "### attr"
   ]
  },
  {
   "cell_type": "markdown",
   "id": "8b860bf2-467a-46b5-81e6-a115276315d3",
   "metadata": {},
   "source": [
    "  [c_name_type_code] INTEGER,\n",
    "  [c_name_type_desc] CHAR(255),\n",
    "  [c_name_type_desc_chn] CHAR(255));"
   ]
  },
  {
   "cell_type": "markdown",
   "id": "98165bed-a77e-4a2f-ba63-8d457e092d7e",
   "metadata": {},
   "source": [
    "### index"
   ]
  },
  {
   "cell_type": "markdown",
   "id": "8f081b85-2940-4d6c-ae61-5877d8b415d5",
   "metadata": {},
   "source": [
    "CREATE INDEX [ALTNAME_CODES_PrimaryKey]\n",
    "ON [ALTNAME_CODES]([c_name_type_code] ASC);"
   ]
  },
  {
   "cell_type": "markdown",
   "id": "6b59a187-c103-4ba9-a832-fc4a391b7cdc",
   "metadata": {
    "jp-MarkdownHeadingCollapsed": true
   },
   "source": [
    "## ALTNAME_DATA 人物别名"
   ]
  },
  {
   "cell_type": "markdown",
   "id": "1698500f-7e3c-41c1-8d5c-716c986badd9",
   "metadata": {},
   "source": [
    "### attr"
   ]
  },
  {
   "cell_type": "markdown",
   "id": "ebdf9dc6-abd8-408b-8421-a13dfbbb61b8",
   "metadata": {},
   "source": [
    "  [c_personid] INTEGER NOT NULL,\n",
    "  [c_alt_name] CHAR(255),\n",
    "  [c_alt_name_chn] CHAR(255) NOT NULL,\n",
    "  [c_alt_name_type_code] INTEGER NOT NULL,\n",
    "  [c_sequence] INTEGER,\n",
    "  [c_source] INTEGER,\n",
    "  [c_pages] CHAR(255),\n",
    "  [c_notes] CHAR,\n",
    "  [c_created_by] CHAR(255),\n",
    "  [c_created_date] CHAR(255),\n",
    "  [c_modified_by] CHAR(255),\n",
    "  [c_modified_date] CHAR(255));\n"
   ]
  },
  {
   "cell_type": "markdown",
   "id": "2fdc9461-5c46-42e6-a12c-bc6488aa4aa3",
   "metadata": {},
   "source": [
    "### index"
   ]
  },
  {
   "cell_type": "markdown",
   "id": "614a58be-99d9-4dc2-bc87-457f4258b491",
   "metadata": {},
   "source": [
    "CREATE INDEX [ALTNAME_DATA_Primary Key]\n",
    "ON [ALTNAME_DATA](\n",
    "  [c_personid] ASC,\n",
    "  [c_alt_name_chn] ASC,\n",
    "  [c_alt_name_type_code] ASC);\n",
    "CREATE INDEX [ALTNAME_DATA_c_alt_name_type_code]\n",
    "ON [ALTNAME_DATA]([c_alt_name_type_code] ASC);\n",
    "CREATE INDEX [ALTNAME_DATA_c_personid] ON [ALTNAME_DATA]([c_personid] ASC);"
   ]
  },
  {
   "cell_type": "markdown",
   "id": "ecba28ce-5bbe-48c1-8887-02591df9bb99",
   "metadata": {
    "jp-MarkdownHeadingCollapsed": true
   },
   "source": [
    "## APPOINTMENT_TYPE_CODES    定义任命类型，例如是从仕途任命、荐举任命"
   ]
  },
  {
   "cell_type": "markdown",
   "id": "d0e8a2cc-b8d0-4c57-b7cf-8f674439d5d8",
   "metadata": {},
   "source": [
    "### attr"
   ]
  },
  {
   "cell_type": "markdown",
   "id": "7031866f-95d2-4b26-91f6-b7ecf33eed3a",
   "metadata": {},
   "source": [
    "  [c_appt_type_code] INTEGER NOT NULL,\n",
    "  [c_appt_type_desc_chn] CHAR(255),\n",
    "  [c_appt_type_desc] CHAR(255),\n",
    "  [c_appt_type_desc_chn_alt] CHAR(255),\n",
    "  [c_appt_type_desc_alt] CHAR(255),\n",
    "  [check] INTEGER,\n",
    "  [c_notes] CHAR(255));"
   ]
  },
  {
   "cell_type": "markdown",
   "id": "32599c76-f95d-4f4d-aad2-d987e6f161e4",
   "metadata": {},
   "source": [
    "### index"
   ]
  },
  {
   "cell_type": "markdown",
   "id": "e9a57e5f-89ff-4f2c-80eb-b10214f2832d",
   "metadata": {},
   "source": [
    "CREATE INDEX [APPOINTMENT_TYPE_CODES_PrimaryKey]\n",
    "ON [APPOINTMENT_TYPE_CODES]([c_appt_type_code] ASC);\n",
    "CREATE INDEX [APPOINTMENT_TYPE_CODES_c_appointment_code]\n",
    "ON [APPOINTMENT_TYPE_CODES]([c_appt_type_code] ASC);"
   ]
  },
  {
   "cell_type": "markdown",
   "id": "e8fab9d5-cf46-4202-b581-27d14dbd2da2",
   "metadata": {
    "jp-MarkdownHeadingCollapsed": true
   },
   "source": [
    "## ASSOC_CODES    定义社会关系的类别和数据，例如朋友、师徒关系"
   ]
  },
  {
   "cell_type": "markdown",
   "id": "72796c48-8341-4162-8f2c-e0d72344250f",
   "metadata": {},
   "source": [
    "### attr"
   ]
  },
  {
   "cell_type": "markdown",
   "id": "5177e4c3-cb65-4df7-af39-c821d55de33c",
   "metadata": {},
   "source": [
    "  [c_assoc_code] INTEGER,\n",
    "  [c_assoc_pair] INTEGER,\n",
    "  [c_assoc_pair2] INTEGER,\n",
    "  [c_assoc_desc] CHAR(255),\n",
    "  [c_assoc_desc_chn] CHAR(255),\n",
    "  [c_assoc_role_type] CHAR(2),\n",
    "  [c_sortorder] INTEGER,\n",
    "  [c_example] CHAR(255));"
   ]
  },
  {
   "cell_type": "markdown",
   "id": "cdd28916-7186-40b6-b490-60c02ee8975d",
   "metadata": {},
   "source": [
    "### index"
   ]
  },
  {
   "cell_type": "markdown",
   "id": "4fb2c355-90e4-439b-a7b3-6947d287b660",
   "metadata": {},
   "source": [
    "CREATE INDEX [ASSOC_CODES_PrimaryKey] ON [ASSOC_CODES]([c_assoc_code] ASC);\n",
    "CREATE INDEX [ASSOC_CODES_ASSOC_CODESc_assoc_pair]\n",
    "ON [ASSOC_CODES]([c_assoc_pair] ASC);\n",
    "CREATE INDEX [ASSOC_CODES_ASSOC_CODESc_assoc_pair2]\n",
    "ON [ASSOC_CODES]([c_assoc_pair2] ASC);\n",
    "CREATE INDEX [ASSOC_CODES_c_assoc_code] ON [ASSOC_CODES]([c_assoc_code] ASC);"
   ]
  },
  {
   "cell_type": "markdown",
   "id": "63095bfb-0710-47c8-82b3-c9e02bf487c7",
   "metadata": {
    "jp-MarkdownHeadingCollapsed": true
   },
   "source": [
    "## ASSOC_CODE_TYPE_REL"
   ]
  },
  {
   "cell_type": "markdown",
   "id": "2ac7e7bf-17bd-4d69-b1fd-7ba61c61c8cd",
   "metadata": {},
   "source": [
    "### attr"
   ]
  },
  {
   "cell_type": "markdown",
   "id": "99e0a48f-108c-4160-b58d-ae9f61d94ff4",
   "metadata": {},
   "source": [
    "  [c_assoc_code] INTEGER,\n",
    "  [c_assoc_type_id] CHAR(255));"
   ]
  },
  {
   "cell_type": "markdown",
   "id": "ae0907c8-5418-4277-9da8-a46e0a26e7a1",
   "metadata": {},
   "source": [
    "### index"
   ]
  },
  {
   "cell_type": "markdown",
   "id": "9a08b9cb-ab3a-4ef7-b504-e489b1e14297",
   "metadata": {},
   "source": [
    "CREATE INDEX [ASSOC_CODE_TYPE_REL_code_id]\n",
    "ON [ASSOC_CODE_TYPE_REL]([c_assoc_code] ASC);\n",
    "CREATE INDEX [ASSOC_CODE_TYPE_REL_PrimaryKey]\n",
    "ON [ASSOC_CODE_TYPE_REL](\n",
    "  [c_assoc_code] ASC,\n",
    "  [c_assoc_type_id] ASC);\n",
    "CREATE INDEX [ASSOC_CODE_TYPE_REL_type_id]\n",
    "ON [ASSOC_CODE_TYPE_REL]([c_assoc_type_id] ASC);"
   ]
  },
  {
   "cell_type": "markdown",
   "id": "1572b6bc-4854-4404-8f1b-398e16254680",
   "metadata": {
    "jp-MarkdownHeadingCollapsed": true
   },
   "source": [
    "## ASSOC_DATA    人物-人物，定义社会关系的类别和数据，例如朋友、师徒关系。存储人物与人物之间的社会关系。此表将“人物表”和“社会关系代码表”关联，使得人物之间的多对多关系可以表示成多个一对多关系"
   ]
  },
  {
   "cell_type": "markdown",
   "id": "3e56d65a-5c61-48d5-ad2b-1f72b1210f92",
   "metadata": {
    "jp-MarkdownHeadingCollapsed": true
   },
   "source": [
    "### attr"
   ]
  },
  {
   "cell_type": "markdown",
   "id": "489cec12-d796-4f94-9bc0-9c166dfb0459",
   "metadata": {},
   "source": [
    "  [c_assoc_code] ASC,\n",
    "  [c_personid] ASC,\n",
    "  [c_assoc_id] ASC,\n",
    "  [c_kin_code] ASC,\n",
    "  [c_kin_id] ASC,\n",
    "  [c_assoc_kin_code] ASC,\n",
    "  [c_assoc_kin_id] ASC,\n",
    "  [c_text_title] ASC);"
   ]
  },
  {
   "cell_type": "markdown",
   "id": "7dd162a9-3036-45d4-bcb3-cd45a0c446ed",
   "metadata": {},
   "source": [
    "### index"
   ]
  },
  {
   "cell_type": "markdown",
   "id": "76f613c1-aa69-4b54-b497-0c48bd4dd108",
   "metadata": {},
   "source": [
    "CREATE INDEX [ASSOC_DATA_assoc_kin_id] ON [ASSOC_DATA]([c_assoc_kin_id] ASC);\n",
    "CREATE INDEX [ASSOC_DATA_c_addr_id] ON [ASSOC_DATA]([c_addr_id] ASC);\n",
    "CREATE INDEX [ASSOC_DATA_c_assoc_code] ON [ASSOC_DATA]([c_assoc_code] ASC);\n",
    "CREATE INDEX [ASSOC_DATA_c_assoc_id] ON [ASSOC_DATA]([c_assoc_id] ASC);\n",
    "CREATE INDEX [ASSOC_DATA_c_assoc_kin_code]\n",
    "ON [ASSOC_DATA]([c_assoc_kin_code] ASC);\n",
    "CREATE INDEX [ASSOC_DATA_c_inst_code]\n",
    "ON [ASSOC_DATA](\n",
    "  [c_inst_code] ASC,\n",
    "  [c_inst_name_code] ASC);\n",
    "CREATE INDEX [ASSOC_DATA_c_inst_name_code]\n",
    "ON [ASSOC_DATA]([c_inst_name_code] ASC);\n",
    "CREATE INDEX [ASSOC_DATA_c_kin_code] ON [ASSOC_DATA]([c_kin_code] ASC);\n",
    "CREATE INDEX [ASSOC_DATA_c_kin_id] ON [ASSOC_DATA]([c_kin_id] ASC);\n",
    "CREATE INDEX [ASSOC_DATA_c_personid] ON [ASSOC_DATA]([c_personid] ASC);"
   ]
  },
  {
   "cell_type": "markdown",
   "id": "85cb6f34-f680-4437-9b76-f2bc6844c169",
   "metadata": {
    "jp-MarkdownHeadingCollapsed": true
   },
   "source": [
    "## ASSOC_TYPES    社会关系"
   ]
  },
  {
   "cell_type": "markdown",
   "id": "28e4aaca-06b3-4da0-880d-5c129fedf0bd",
   "metadata": {},
   "source": [
    "### attr"
   ]
  },
  {
   "cell_type": "markdown",
   "id": "5bfc9104-988a-4d6d-b5db-aef6ca84db84",
   "metadata": {},
   "source": [
    "  [c_assoc_type_id] CHAR(255),\n",
    "  [c_assoc_type_desc] CHAR(255),\n",
    "  [c_assoc_type_desc_chn] CHAR(255),\n",
    "  [c_assoc_type_parent_id] CHAR(255),\n",
    "  [c_assoc_type_level] INTEGER,\n",
    "  [c_assoc_type_sortorder] INTEGER,\n",
    "  [c_assoc_type_short_desc] CHAR(50));\n"
   ]
  },
  {
   "cell_type": "markdown",
   "id": "0a47aa1f-eb50-4788-a3a1-1fe1e2fa62ac",
   "metadata": {},
   "source": [
    "### index"
   ]
  },
  {
   "cell_type": "markdown",
   "id": "ef39efd6-908c-4a12-a876-7bfb06362d38",
   "metadata": {},
   "source": [
    "CREATE INDEX [ASSOC_TYPES_PrimaryKey] ON [ASSOC_TYPES]([c_assoc_type_id] ASC);\n",
    "CREATE INDEX [ASSOC_TYPES_type_id] ON [ASSOC_TYPES]([c_assoc_type_id] ASC);\n",
    "CREATE INDEX [ASSOC_TYPES_type_parent_id]\n",
    "ON [ASSOC_TYPES]([c_assoc_type_parent_id] ASC);"
   ]
  },
  {
   "cell_type": "markdown",
   "id": "011555e0-4428-46d9-b6c3-3799df07d82b",
   "metadata": {
    "jp-MarkdownHeadingCollapsed": true
   },
   "source": [
    "## ASSUME_OFFICE_CODES"
   ]
  },
  {
   "cell_type": "markdown",
   "id": "f811c1cf-db29-4abf-a8c1-bef9ec96eaaf",
   "metadata": {},
   "source": [
    "### attr"
   ]
  },
  {
   "cell_type": "markdown",
   "id": "f02e86e1-6cd4-41dc-88d9-d80bc35ee9ab",
   "metadata": {},
   "source": [
    "  [c_assume_office_code] INTEGER,\n",
    "  [c_assume_office_desc_chn] CHAR(50),\n",
    "  [c_assume_office_desc] CHAR(50));"
   ]
  },
  {
   "cell_type": "markdown",
   "id": "a52f3b8f-1617-4699-954a-79959f137760",
   "metadata": {},
   "source": [
    "### index"
   ]
  },
  {
   "cell_type": "markdown",
   "id": "ab657155-623c-4451-a89a-1abb67b3132f",
   "metadata": {},
   "source": [
    "CREATE INDEX [ASSUME_OFFICE_CODES_PrimaryKey]\n",
    "ON [ASSUME_OFFICE_CODES]([c_assume_office_code] ASC);\n",
    "CREATE INDEX [ASSUME_OFFICE_CODES_c_appointment_code]\n",
    "ON [ASSUME_OFFICE_CODES]([c_assume_office_code] ASC);"
   ]
  },
  {
   "cell_type": "markdown",
   "id": "c20631d8-784e-46c9-9069-02bb375e6279",
   "metadata": {
    "jp-MarkdownHeadingCollapsed": true
   },
   "source": [
    "## BIOG_ADDR_CODES 人物-地址的代码"
   ]
  },
  {
   "cell_type": "markdown",
   "id": "f174d2ba-ff3f-42fe-9bca-276397e9e782",
   "metadata": {},
   "source": [
    "### attr"
   ]
  },
  {
   "cell_type": "markdown",
   "id": "eb3acc1f-be81-4aa5-a1d8-29b45a2bb748",
   "metadata": {},
   "source": [
    "  [c_addr_type] INTEGER NOT NULL,\n",
    "  [c_addr_desc] CHAR(255),\n",
    "  [c_addr_desc_chn] CHAR(255),\n",
    "  [c_addr_note] CHAR(255),\n",
    "  [c_index_addr_rank] INTEGER,\n",
    "  [c_index_addr_default_rank] INTEGER);"
   ]
  },
  {
   "cell_type": "markdown",
   "id": "0d55f639-001e-46fc-94fe-18601e498325",
   "metadata": {},
   "source": [
    "### index"
   ]
  },
  {
   "cell_type": "markdown",
   "id": "5d7750d4-9e31-4d8c-8f9d-87b157bb5197",
   "metadata": {},
   "source": [
    "CREATE INDEX [BIOG_ADDR_CODES_PrimaryKey]\n",
    "ON [BIOG_ADDR_CODES]([c_addr_type] ASC);"
   ]
  },
  {
   "cell_type": "markdown",
   "id": "95cf2a42-7a92-47b4-ae8f-cb19bea63dc3",
   "metadata": {
    "jp-MarkdownHeadingCollapsed": true
   },
   "source": [
    "## BIOG_ADDR_DATA    人物-地址。它关联了“BIOG_MAIN”表（人物）和“ADDRESSES”表（地址），以支持一个人可以有多个居住地或活动地，满足一对多需求"
   ]
  },
  {
   "cell_type": "markdown",
   "id": "c6b76598-8372-4a5e-baae-a5d68b0c8e93",
   "metadata": {},
   "source": [
    "### attr"
   ]
  },
  {
   "cell_type": "markdown",
   "id": "96d88022-7c75-4353-9f91-a5e6061f75c2",
   "metadata": {},
   "source": [
    "  [c_personid] INTEGER NOT NULL,\n",
    "  [c_addr_id] INTEGER NOT NULL,\n",
    "  [c_addr_type] INTEGER NOT NULL,\n",
    "  [c_sequence] INTEGER NOT NULL,\n",
    "  [c_firstyear] INTEGER,\n",
    "  [c_lastyear] INTEGER,\n",
    "  [c_source] INTEGER,\n",
    "  [c_pages] CHAR(255),\n",
    "  [c_notes] CHAR,\n",
    "  [c_fy_nh_code] INTEGER,\n",
    "  [c_ly_nh_code] INTEGER,\n",
    "  [c_fy_nh_year] INTEGER,\n",
    "  [c_ly_nh_year] INTEGER,\n",
    "  [c_fy_range] INTEGER,\n",
    "  [c_ly_range] INTEGER,\n",
    "  [c_natal] INTEGER,\n",
    "  [c_fy_intercalary] BOOLEAN(2) NOT NULL,\n",
    "  [c_ly_intercalary] BOOLEAN(2) NOT NULL,\n",
    "  [c_fy_month] INTEGER,\n",
    "  [c_ly_month] INTEGER,\n",
    "  [c_fy_day] INTEGER,\n",
    "  [c_ly_day] INTEGER,\n",
    "  [c_fy_day_gz] INTEGER,\n",
    "  [c_ly_day_gz] INTEGER,\n",
    "  [c_created_by] CHAR(255),\n",
    "  [c_created_date] CHAR(255),\n",
    "  [c_modified_by] CHAR(255),\n",
    "  [c_modified_date] CHAR(255),\n",
    "  [c_delete] INTEGER);\n"
   ]
  },
  {
   "cell_type": "markdown",
   "id": "982e9d38-27f1-4280-98f4-572284d85594",
   "metadata": {},
   "source": [
    "### index"
   ]
  },
  {
   "cell_type": "markdown",
   "id": "ae09b13e-428d-4005-b5c2-8a80c4c3a351",
   "metadata": {},
   "source": [
    "CREATE INDEX [BIOG_ADDR_DATA_PrimaryKey]\n",
    "ON [BIOG_ADDR_DATA](\n",
    "  [c_personid] ASC,\n",
    "  [c_addr_id] ASC,\n",
    "  [c_addr_type] ASC,\n",
    "  [c_sequence] ASC);\n",
    "CREATE INDEX [BIOG_ADDR_DATA_addr_type]\n",
    "ON [BIOG_ADDR_DATA](\n",
    "  [c_personid] ASC,\n",
    "  [c_addr_type] ASC);\n",
    "CREATE INDEX [BIOG_ADDR_DATA_BIOG_ADDR_DATAc_addr_type]\n",
    "ON [BIOG_ADDR_DATA]([c_addr_type] ASC);\n",
    "CREATE INDEX [BIOG_ADDR_DATA_c_addr_id] ON [BIOG_ADDR_DATA]([c_addr_id] ASC);\n",
    "CREATE INDEX [BIOG_ADDR_DATA_c_personid] ON [BIOG_ADDR_DATA]([c_personid] ASC);"
   ]
  },
  {
   "cell_type": "markdown",
   "id": "5feb4a79-d1ad-4d9d-aac9-d05bf6f08e8c",
   "metadata": {
    "jp-MarkdownHeadingCollapsed": true
   },
   "source": [
    "## BIOG_INST_CODES 人物-机构的代码"
   ]
  },
  {
   "cell_type": "markdown",
   "id": "2abcd3e4-303d-4c86-b99e-10ebc89f9d26",
   "metadata": {},
   "source": [
    "### attr"
   ]
  },
  {
   "cell_type": "markdown",
   "id": "a61d7d30-04b9-46d3-abc5-7fce8da549af",
   "metadata": {},
   "source": [
    "  [c_bi_role_code] INTEGER,\n",
    "  [c_bi_role_desc] CHAR(255),\n",
    "  [c_bi_role_chn] CHAR(255),\n",
    "  [c_notes] CHAR(255));\n"
   ]
  },
  {
   "cell_type": "markdown",
   "id": "b74bbefd-beee-4d61-8910-2944e99a9690",
   "metadata": {},
   "source": [
    "### index"
   ]
  },
  {
   "cell_type": "markdown",
   "id": "f94a687b-5dc2-40fd-805c-7ec071fa4877",
   "metadata": {},
   "source": [
    "CREATE INDEX [BIOG_INST_CODES_PrimaryKey]\n",
    "ON [BIOG_INST_CODES]([c_bi_role_code] ASC);\n",
    "CREATE INDEX [BIOG_INST_CODES_c_bi_role_code]\n",
    "ON [BIOG_INST_CODES]([c_bi_role_code] ASC);"
   ]
  },
  {
   "cell_type": "markdown",
   "id": "d1058643-2051-4ee4-9e99-0fb2e87880d5",
   "metadata": {
    "jp-MarkdownHeadingCollapsed": true
   },
   "source": [
    "## BIOG_INST_DATA 人物-机构"
   ]
  },
  {
   "cell_type": "markdown",
   "id": "77a7cb0f-83d8-49b9-a879-7ad56c514fa9",
   "metadata": {},
   "source": [
    "### attr"
   ]
  },
  {
   "cell_type": "markdown",
   "id": "8e7a7025-21f3-4021-aab7-f35835fdfcb9",
   "metadata": {},
   "source": [
    "  [c_personid] INTEGER NOT NULL,\n",
    "  [c_inst_name_code] INTEGER NOT NULL,\n",
    "  [c_inst_code] INTEGER NOT NULL,\n",
    "  [c_bi_role_code] INTEGER NOT NULL,\n",
    "  [c_bi_begin_year] INTEGER,\n",
    "  [c_bi_by_nh_code] INTEGER,\n",
    "  [c_bi_by_nh_year] INTEGER,\n",
    "  [c_bi_by_range] INTEGER,\n",
    "  [c_bi_end_year] INTEGER,\n",
    "  [c_bi_ey_nh_code] INTEGER,\n",
    "  [c_bi_ey_nh_year] INTEGER,\n",
    "  [c_bi_ey_range] INTEGER,\n",
    "  [c_source] INTEGER,\n",
    "  [c_pages] CHAR(255),\n",
    "  [c_notes] CHAR,\n",
    "  [c_created_by] CHAR(255),\n",
    "  [c_created_date] CHAR(255),\n",
    "  [c_modified_by] CHAR(255),\n",
    "  [c_modified_date] CHAR(255),\n",
    "  [tts_sysno] INTEGER);\n"
   ]
  },
  {
   "cell_type": "markdown",
   "id": "6ea2b6a6-020c-40f3-accf-64ff44c04b30",
   "metadata": {},
   "source": [
    "### index"
   ]
  },
  {
   "cell_type": "markdown",
   "id": "d75f3bf6-bbdd-4a84-8568-98030aff3741",
   "metadata": {},
   "source": [
    "CREATE INDEX [BIOG_INST_DATA_PrimaryKey]\n",
    "ON [BIOG_INST_DATA](\n",
    "  [c_personid] ASC,\n",
    "  [c_inst_name_code] ASC,\n",
    "  [c_inst_code] ASC,\n",
    "  [c_bi_role_code] ASC);\n",
    "CREATE INDEX [BIOG_INST_DATA_c_bi_by_nh_code]\n",
    "ON [BIOG_INST_DATA]([c_bi_by_nh_code] ASC);\n",
    "CREATE INDEX [BIOG_INST_DATA_c_bi_ey_nh_code]\n",
    "ON [BIOG_INST_DATA]([c_bi_ey_nh_code] ASC);\n",
    "CREATE INDEX [BIOG_INST_DATA_c_biog_inst_code]\n",
    "ON [BIOG_INST_DATA]([c_bi_role_code] ASC);\n",
    "CREATE INDEX [BIOG_INST_DATA_c_inst_code]\n",
    "ON [BIOG_INST_DATA](\n",
    "  [c_inst_name_code] ASC,\n",
    "  [c_inst_code] ASC);\n",
    "CREATE INDEX [BIOG_INST_DATA_c_inst_name_code]\n",
    "ON [BIOG_INST_DATA]([c_inst_name_code] ASC);\n",
    "CREATE INDEX [BIOG_INST_DATA_c_personid] ON [BIOG_INST_DATA]([c_personid] ASC);"
   ]
  },
  {
   "cell_type": "markdown",
   "id": "f0c86cd9-64a6-4012-98c6-fe7320997fef",
   "metadata": {},
   "source": [
    "## BIOG_MAIN    **中心表**。主要人物表，记录历史人物的核心信息，如姓名、性别、出身背景"
   ]
  },
  {
   "cell_type": "markdown",
   "id": "81f9f77d-5945-404b-af37-243d103e91ea",
   "metadata": {
    "jp-MarkdownHeadingCollapsed": true
   },
   "source": [
    "### attr"
   ]
  },
  {
   "cell_type": "markdown",
   "id": "026bd06c-5294-43d9-b517-f560dc7175da",
   "metadata": {},
   "source": [
    "  [c_personid] INTEGER NOT NULL每个人唯一ID,\n",
    "  [c_name] CHAR(255),\n",
    "  [c_name_chn] CHAR(255),\n",
    "  [c_index_year] INTEGER,\n",
    "  [c_index_year_type_code] CHAR(16),\n",
    "  [c_index_year_source_id] INTEGER,\n",
    "  [c_female] BOOLEAN(2) NOT NULL,\n",
    "  [c_index_addr_id] INTEGER,\n",
    "  [c_index_addr_type_code] INTEGER,\n",
    "  [c_ethnicity_code] INTEGER,\n",
    "  [c_household_status_code] INTEGER,\n",
    "  [c_tribe] CHAR(255),\n",
    "  [c_birthyear] INTEGER,\n",
    "  [c_by_nh_code] INTEGER,\n",
    "  [c_by_nh_year] INTEGER,\n",
    "  [c_by_range] INTEGER,\n",
    "  [c_deathyear] INTEGER,\n",
    "  [c_dy_nh_code] INTEGER,\n",
    "  [c_dy_nh_year] INTEGER,\n",
    "  [c_dy_range] INTEGER,\n",
    "  [c_death_age] INTEGER,\n",
    "  [c_death_age_range] INTEGER,\n",
    "  [c_fl_earliest_year] INTEGER,\n",
    "  [c_fl_ey_nh_code] INTEGER,\n",
    "  [c_fl_ey_nh_year] INTEGER,\n",
    "  [c_fl_ey_notes] CHAR,\n",
    "  [c_fl_latest_year] INTEGER,\n",
    "  [c_fl_ly_nh_code] INTEGER,\n",
    "  [c_fl_ly_nh_year] INTEGER,\n",
    "  [c_fl_ly_notes] CHAR,\n",
    "  [c_surname] CHAR(255),\n",
    "  [c_surname_chn] CHAR(255),\n",
    "  [c_mingzi] CHAR(255),\n",
    "  [c_mingzi_chn] CHAR(255),\n",
    "  [c_dy] INTEGER,\n",
    "  [c_choronym_code] INTEGER,\n",
    "  [c_notes] CHAR,\n",
    "  [c_by_intercalary] BOOLEAN(2) NOT NULL,\n",
    "  [c_dy_intercalary] BOOLEAN(2) NOT NULL,\n",
    "  [c_by_month] INTEGER,\n",
    "  [c_dy_month] INTEGER,\n",
    "  [c_by_day] INTEGER,\n",
    "  [c_dy_day] INTEGER,\n",
    "  [c_by_day_gz] INTEGER,\n",
    "  [c_dy_day_gz] INTEGER,\n",
    "  [c_surname_proper] CHAR(255),\n",
    "  [c_mingzi_proper] CHAR(255),\n",
    "  [c_name_proper] CHAR(255),\n",
    "  [c_surname_rm] CHAR(255),\n",
    "  [c_mingzi_rm] CHAR(255),\n",
    "  [c_name_rm] CHAR(255),\n",
    "  [c_created_by] CHAR(255),\n",
    "  [c_created_date] CHAR(255),\n",
    "  [c_modified_by] CHAR(255),\n",
    "  [c_modified_date] CHAR(255),\n",
    "  [c_self_bio] BOOLEAN(2) NOT NULL);\n"
   ]
  },
  {
   "cell_type": "markdown",
   "id": "794829e0-7084-474f-bfc7-8479f184e462",
   "metadata": {},
   "source": [
    "### index"
   ]
  },
  {
   "cell_type": "markdown",
   "id": "9ae4ba1a-09d7-45c8-a9fe-a8c6cf3e6b34",
   "metadata": {},
   "source": [
    "CREATE INDEX [BIOG_MAIN_PrimaryKey] ON [BIOG_MAIN]([c_personid] ASC);\n",
    "CREATE INDEX [BIOG_MAIN_c_index_addr_id] ON [BIOG_MAIN]([c_index_addr_id] ASC);\n",
    "CREATE INDEX [BIOG_MAIN_c_index_addr_type_code]\n",
    "ON [BIOG_MAIN]([c_index_addr_type_code] ASC);\n",
    "CREATE INDEX [BIOG_MAIN_c_name] ON [BIOG_MAIN]([c_name] ASC);\n",
    "CREATE INDEX [BIOG_MAIN_c_name_chn] ON [BIOG_MAIN]([c_name_chn] ASC);\n",
    "CREATE INDEX [BIOG_MAIN_c_personid] ON [BIOG_MAIN]([c_personid] ASC);"
   ]
  },
  {
   "cell_type": "markdown",
   "id": "b7675c94-f841-4b06-ab96-dced24f37e7d",
   "metadata": {
    "jp-MarkdownHeadingCollapsed": true
   },
   "source": [
    "## BIOG_SOURCE_DATA    提供人物数据的来源和引用信息"
   ]
  },
  {
   "cell_type": "markdown",
   "id": "6da326e8-43d3-483a-a1af-ded48c616e94",
   "metadata": {},
   "source": [
    "### attr"
   ]
  },
  {
   "cell_type": "markdown",
   "id": "f517863b-83a1-4d63-9d69-3ab0357527ec",
   "metadata": {},
   "source": [
    "  [c_personid] INTEGER NOT NULL,\n",
    "  [c_textid] INTEGER NOT NULL,\n",
    "  [c_pages] CHAR(255) NOT NULL,\n",
    "  [c_notes] CHAR,\n",
    "  [c_main_source] BOOLEAN(2) NOT NULL,\n",
    "  [c_self_bio] BOOLEAN(2) NOT NULL);\n"
   ]
  },
  {
   "cell_type": "markdown",
   "id": "71416234-37ed-41aa-8bd6-ca9ff7089c05",
   "metadata": {},
   "source": [
    "### index"
   ]
  },
  {
   "cell_type": "markdown",
   "id": "85dfe84a-a01d-4419-a49a-6fed445b3f07",
   "metadata": {},
   "source": [
    "CREATE INDEX [BIOG_SOURCE_DATA_Primary key]\n",
    "ON [BIOG_SOURCE_DATA](\n",
    "  [c_personid] ASC,\n",
    "  [c_textid] ASC,\n",
    "  [c_pages] ASC);\n",
    "CREATE INDEX [BIOG_SOURCE_DATA_c_personid]\n",
    "ON [BIOG_SOURCE_DATA]([c_personid] ASC);\n",
    "CREATE INDEX [BIOG_SOURCE_DATA_DB_ID] ON [BIOG_SOURCE_DATA]([c_textid] ASC);\n",
    "CREATE INDEX [BIOG_SOURCE_DATA_DB_PERSON_ID]\n",
    "ON [BIOG_SOURCE_DATA]([c_pages] ASC);"
   ]
  },
  {
   "cell_type": "markdown",
   "id": "2ff1b8ae-e35f-47a1-8d45-abc1e1ea670d",
   "metadata": {
    "jp-MarkdownHeadingCollapsed": true
   },
   "source": [
    "## BIOG_TEXT_DATA    存储与人物相关的文字资料，比如生平描述或研究注释。"
   ]
  },
  {
   "cell_type": "markdown",
   "id": "b4610b75-052f-4827-8fbb-e5c996671808",
   "metadata": {},
   "source": [
    "### attr"
   ]
  },
  {
   "cell_type": "markdown",
   "id": "9d2e9010-2736-4dcc-ab8c-d53eea5595f6",
   "metadata": {},
   "source": [
    "  [c_textid] INTEGER NOT NULL,\n",
    "  [c_personid] INTEGER NOT NULL,\n",
    "  [c_role_id] INTEGER NOT NULL,\n",
    "  [c_year] INTEGER,\n",
    "  [c_nh_code] INTEGER,\n",
    "  [c_nh_year] INTEGER,\n",
    "  [c_range_code] INTEGER,\n",
    "  [c_source] INTEGER,\n",
    "  [c_pages] CHAR(255),\n",
    "  [c_notes] CHAR,\n",
    "  [c_created_by] CHAR(255),\n",
    "  [c_created_date] CHAR(255),\n",
    "  [c_modified_by] CHAR(255),\n",
    "  [c_modified_date] CHAR(255));\n"
   ]
  },
  {
   "cell_type": "markdown",
   "id": "746ba3ec-d436-46de-a2d6-6a303a85c6cc",
   "metadata": {},
   "source": [
    "### index"
   ]
  },
  {
   "cell_type": "markdown",
   "id": "47b6ce05-250c-4b50-9842-f2f12ebe0800",
   "metadata": {},
   "source": [
    "CREATE INDEX [BIOG_TEXT_DATA_PrimaryKey]\n",
    "ON [BIOG_TEXT_DATA](\n",
    "  [c_textid] ASC,\n",
    "  [c_personid] ASC,\n",
    "  [c_role_id] ASC);\n",
    "CREATE INDEX [BIOG_TEXT_DATA_BIOG_TEXT_DATA_NIAN_HAO]\n",
    "ON [BIOG_TEXT_DATA]([c_nh_code] ASC);\n",
    "CREATE INDEX [BIOG_TEXT_DATA_BIOG_TEXT_DATA_PERSON_ID]\n",
    "ON [BIOG_TEXT_DATA]([c_personid] ASC);\n",
    "CREATE INDEX [BIOG_TEXT_DATA_BIOG_TEXT_DATA_SOURCE_TEXT_ID]\n",
    "ON [BIOG_TEXT_DATA]([c_source] ASC);\n",
    "CREATE INDEX [BIOG_TEXT_DATA_BIOG_TEXT_DATA_TEXT_ID]\n",
    "ON [BIOG_TEXT_DATA]([c_textid] ASC);\n",
    "CREATE INDEX [BIOG_TEXT_DATA_BIOG_TEXT_DATA_TEXT_ROLE_CODE]\n",
    "ON [BIOG_TEXT_DATA]([c_role_id] ASC);\n",
    "CREATE INDEX [BIOG_TEXT_DATA_BIOG_TEXT_DATA_YEAR_RANGE_CODE]\n",
    "ON [BIOG_TEXT_DATA]([c_range_code] ASC);\n",
    "CREATE INDEX [BIOG_TEXT_DATA_c_nh_code] ON [BIOG_TEXT_DATA]([c_nh_code] ASC);\n",
    "CREATE INDEX [BIOG_TEXT_DATA_c_personid] ON [BIOG_TEXT_DATA]([c_personid] ASC);\n",
    "CREATE INDEX [BIOG_TEXT_DATA_c_range_code]\n",
    "ON [BIOG_TEXT_DATA]([c_range_code] ASC);\n",
    "CREATE INDEX [BIOG_TEXT_DATA_c_role_id] ON [BIOG_TEXT_DATA]([c_role_id] ASC);\n",
    "CREATE INDEX [BIOG_TEXT_DATA_c_textid] ON [BIOG_TEXT_DATA]([c_textid] ASC);"
   ]
  },
  {
   "cell_type": "markdown",
   "id": "516a9d07-6e99-40d7-ace1-4cc4318c78e3",
   "metadata": {
    "jp-MarkdownHeadingCollapsed": true
   },
   "source": [
    "## CBDB_NAME_LIST"
   ]
  },
  {
   "cell_type": "markdown",
   "id": "f082d864-ec81-4a08-afed-05f60c7826d1",
   "metadata": {},
   "source": [
    "### attr"
   ]
  },
  {
   "cell_type": "markdown",
   "id": "1724e26a-58f0-4a5f-83c9-3ebc9a11a21e",
   "metadata": {},
   "source": [
    "  [c_personid] INTEGER NOT NULL,\n",
    "  [name] CHAR(255) NOT NULL,\n",
    "  [source] CHAR(255) NOT NULL);\n"
   ]
  },
  {
   "cell_type": "markdown",
   "id": "ad7980b6-f8ce-4fb2-9c45-5da1f8a65bc5",
   "metadata": {},
   "source": [
    "### index"
   ]
  },
  {
   "cell_type": "markdown",
   "id": "43cdf358-6bb9-4863-8399-0de5261a09e1",
   "metadata": {},
   "source": [
    "CREATE INDEX [CBDB_NAME_LIST_PrimaryKey]\n",
    "ON [CBDB_NAME_LIST](\n",
    "  [c_personid] ASC,\n",
    "  [name] ASC,\n",
    "  [source] ASC)"
   ]
  },
  {
   "cell_type": "markdown",
   "id": "20b1ba1a-735d-4469-b468-7e9fcf826fc7",
   "metadata": {
    "jp-MarkdownHeadingCollapsed": true
   },
   "source": [
    "## CHORONYM_CODES"
   ]
  },
  {
   "cell_type": "markdown",
   "id": "d9379bb1-89b3-416b-a8a9-b7dd08e2514f",
   "metadata": {},
   "source": [
    "### attr"
   ]
  },
  {
   "cell_type": "markdown",
   "id": "74012ffe-151d-431e-b4e5-631cbdd4ab2b",
   "metadata": {},
   "source": [
    "郡望\n",
    "  [c_choronym_code] INTEGER,\n",
    "  [c_choronym_desc] CHAR(255),\n",
    "  [c_choronym_chn] CHAR(255));\n"
   ]
  },
  {
   "cell_type": "markdown",
   "id": "aa99f05a-291b-4444-9841-5be83778587e",
   "metadata": {},
   "source": [
    "### index"
   ]
  },
  {
   "cell_type": "markdown",
   "id": "6f6b608e-a705-422b-af37-08e586ac8484",
   "metadata": {},
   "source": [
    "CREATE INDEX [CHORONYM_CODES_PrimaryKey]\n",
    "ON [CHORONYM_CODES]([c_choronym_code] ASC);"
   ]
  },
  {
   "cell_type": "markdown",
   "id": "6beb88ec-aa8e-48cc-9e6c-ae6c54390c94",
   "metadata": {
    "jp-MarkdownHeadingCollapsed": true
   },
   "source": [
    "## COUNTRY_CODES"
   ]
  },
  {
   "cell_type": "markdown",
   "id": "353ce44c-0955-4d15-8158-7ab0ef95be65",
   "metadata": {},
   "source": [
    "### attr"
   ]
  },
  {
   "cell_type": "markdown",
   "id": "18136891-f786-4a53-8c47-34763ec92315",
   "metadata": {},
   "source": [
    "  [c_country_code] INTEGER,\n",
    "  [c_country_desc] CHAR(50),\n",
    "  [c_country_desc_chn] CHAR(50));\n"
   ]
  },
  {
   "cell_type": "markdown",
   "id": "9fea9e3e-89ef-4147-9736-c9096026eed4",
   "metadata": {},
   "source": [
    "### index"
   ]
  },
  {
   "cell_type": "markdown",
   "id": "950072f1-dc19-4d4b-8d2d-75eea66f0de5",
   "metadata": {},
   "source": [
    "CREATE INDEX [COUNTRY_CODES_PrimaryKey] ON [COUNTRY_CODES]([c_country_code] ASC);\n",
    "CREATE INDEX [COUNTRY_CODES_c_country_code]\n",
    "ON [COUNTRY_CODES]([c_country_code] ASC);"
   ]
  },
  {
   "cell_type": "markdown",
   "id": "7db8e755-2b0b-461e-abfe-8ab01b4151e9",
   "metadata": {
    "jp-MarkdownHeadingCollapsed": true
   },
   "source": [
    "## CopyMissingTables"
   ]
  },
  {
   "cell_type": "markdown",
   "id": "eca86174-6c16-43c9-aa4f-87b27003c382",
   "metadata": {},
   "source": [
    "### attr"
   ]
  },
  {
   "cell_type": "markdown",
   "id": "f8761912-bd45-427f-a0dd-c9d824a059b9",
   "metadata": {},
   "source": [
    "  [ID] INTEGER NOT NULL,\n",
    "  [TableName] CHAR(255));\n"
   ]
  },
  {
   "cell_type": "markdown",
   "id": "92b45f53-aace-4aa0-9a2e-4001dfc1f8ca",
   "metadata": {},
   "source": [
    "### index"
   ]
  },
  {
   "cell_type": "markdown",
   "id": "5abeb66b-5fc3-4f0b-a5b7-5522fc3202a8",
   "metadata": {},
   "source": [
    "CREATE INDEX [CopyMissingTables_PrimaryKey] ON [CopyMissingTables]([ID] ASC);"
   ]
  },
  {
   "cell_type": "markdown",
   "id": "0b4307c4-ea50-4650-90c6-d99bc31d3624",
   "metadata": {
    "jp-MarkdownHeadingCollapsed": true
   },
   "source": [
    "## CopyTables"
   ]
  },
  {
   "cell_type": "markdown",
   "id": "e004f95f-e5a4-4481-9573-f5f3d891066a",
   "metadata": {},
   "source": [
    "### attr"
   ]
  },
  {
   "cell_type": "markdown",
   "id": "ffd58518-4d42-4cb3-a7c2-70cbc044ace4",
   "metadata": {},
   "source": [
    "  [TableName] CHAR(255) NOT NULL,\n",
    "  [NotProcessed] BOOLEAN(2) NOT NULL);\n"
   ]
  },
  {
   "cell_type": "markdown",
   "id": "d767e266-091a-4466-8efe-5a94a7806e80",
   "metadata": {},
   "source": [
    "### index"
   ]
  },
  {
   "cell_type": "markdown",
   "id": "65de9397-d18e-494e-8c0c-487202a74983",
   "metadata": {},
   "source": [
    "CREATE INDEX [CopyTables_PrimaryKey] ON [CopyTables]([TableName] ASC);"
   ]
  },
  {
   "cell_type": "markdown",
   "id": "2d1551b4-409c-4179-9c00-6d498f734346",
   "metadata": {
    "jp-MarkdownHeadingCollapsed": true
   },
   "source": [
    "## CopyTablesDefault"
   ]
  },
  {
   "cell_type": "markdown",
   "id": "77eb5b09-c9ad-4e96-95bd-527b7343a414",
   "metadata": {},
   "source": [
    "### attr"
   ]
  },
  {
   "cell_type": "markdown",
   "id": "05c4e118-02f0-4313-89f7-3e7aeb1f3666",
   "metadata": {},
   "source": [
    "  [ID] INTEGER NOT NULL,\n",
    "  [TableName] CHAR(255));\n"
   ]
  },
  {
   "cell_type": "markdown",
   "id": "e70e5c06-448a-401c-baf3-af4660ba2aa5",
   "metadata": {},
   "source": [
    "### index"
   ]
  },
  {
   "cell_type": "markdown",
   "id": "958e740d-9e34-437f-b73b-488c3a66b288",
   "metadata": {},
   "source": [
    "CREATE INDEX [CopyTablesDefault_PrimaryKey] ON [CopyTablesDefault]([ID] ASC);"
   ]
  },
  {
   "cell_type": "markdown",
   "id": "f2c66404-171b-4c76-bef3-baf7708f9600",
   "metadata": {
    "jp-MarkdownHeadingCollapsed": true
   },
   "source": [
    "## DYNASTIES"
   ]
  },
  {
   "cell_type": "markdown",
   "id": "a6fb0ffd-7453-4bbc-9cbd-e80f01deb837",
   "metadata": {},
   "source": [
    "### attr"
   ]
  },
  {
   "cell_type": "markdown",
   "id": "dcccd229-fa5d-4309-b581-80a1c053bfc7",
   "metadata": {},
   "source": [
    "  [c_dy] INTEGER,\n",
    "  [c_dynasty] CHAR(255),\n",
    "  [c_dynasty_chn] CHAR(255),\n",
    "  [c_start] INTEGER,\n",
    "  [c_end] INTEGER,\n",
    "  [c_sort] INTEGER);\n"
   ]
  },
  {
   "cell_type": "markdown",
   "id": "4e06d453-090f-43be-bb92-e23ab5b58f7c",
   "metadata": {},
   "source": [
    "### index"
   ]
  },
  {
   "cell_type": "markdown",
   "id": "fd11afcb-0ada-4fc3-b252-20e1e89fd312",
   "metadata": {},
   "source": [
    "CREATE INDEX [DYNASTIES_PrimaryKey] ON [DYNASTIES]([c_dy] ASC);"
   ]
  },
  {
   "cell_type": "markdown",
   "id": "f0767c34-b13b-46f2-b84d-7be18457e4b2",
   "metadata": {
    "jp-MarkdownHeadingCollapsed": true
   },
   "source": [
    "## ENTRY_CODES"
   ]
  },
  {
   "cell_type": "markdown",
   "id": "41a1a87f-22be-460d-b620-2b15c47b301e",
   "metadata": {},
   "source": [
    "### attr"
   ]
  },
  {
   "cell_type": "markdown",
   "id": "493e6dfa-a518-4ee0-a9c1-6ef3e7a4b4aa",
   "metadata": {},
   "source": [
    "  [c_entry_code] INTEGER,\n",
    "  [c_entry_desc] CHAR(255),\n",
    "  [c_entry_desc_chn] CHAR(255));\n"
   ]
  },
  {
   "cell_type": "markdown",
   "id": "22abc035-4a46-4af9-a543-5b46781d28ac",
   "metadata": {},
   "source": [
    "### index"
   ]
  },
  {
   "cell_type": "markdown",
   "id": "12d83a23-7ca6-4156-8ac2-85a1753daf78",
   "metadata": {},
   "source": [
    "CREATE INDEX [ENTRY_CODES_PrimaryKey] ON [ENTRY_CODES]([c_entry_code] ASC);\n",
    "CREATE INDEX [ENTRY_CODES_ENTRY_CODESc_entry_code]\n",
    "ON [ENTRY_CODES]([c_entry_code] ASC);"
   ]
  },
  {
   "cell_type": "markdown",
   "id": "e29ef7f4-2cb1-447d-bc99-061ab69cc60a",
   "metadata": {
    "jp-MarkdownHeadingCollapsed": true
   },
   "source": [
    "## ENTRY_CODE_TYPE_REL"
   ]
  },
  {
   "cell_type": "markdown",
   "id": "88a16d93-0b93-4ede-8db6-22fd6f5434f4",
   "metadata": {},
   "source": [
    "### attr"
   ]
  },
  {
   "cell_type": "markdown",
   "id": "f0233807-fc1d-47e8-a2da-9ef60e5186b2",
   "metadata": {},
   "source": [
    "CREATE TABLE [ENTRY_CODE_TYPE_REL](\n",
    "  [c_entry_code] INTEGER,\n",
    "  [c_entry_type] CHAR(255));\n"
   ]
  },
  {
   "cell_type": "markdown",
   "id": "7b0c623b-46dd-4c0d-ac69-ff0a962f10f1",
   "metadata": {},
   "source": [
    "### index"
   ]
  },
  {
   "cell_type": "markdown",
   "id": "7e40f35b-6f29-4000-9a9c-36265fe07da2",
   "metadata": {},
   "source": [
    "CREATE INDEX [ENTRY_CODE_TYPE_REL_PrimaryKey]\n",
    "ON [ENTRY_CODE_TYPE_REL](\n",
    "  [c_entry_code] ASC,\n",
    "  [c_entry_type] ASC);\n",
    "CREATE INDEX [ENTRY_CODE_TYPE_REL_code_id]\n",
    "ON [ENTRY_CODE_TYPE_REL]([c_entry_code] ASC);\n",
    "CREATE INDEX [ENTRY_CODE_TYPE_REL_type_id]\n",
    "ON [ENTRY_CODE_TYPE_REL]([c_entry_type] ASC);"
   ]
  },
  {
   "cell_type": "markdown",
   "id": "61bb14cf-61ae-4834-a304-4bd89b44a47c",
   "metadata": {
    "jp-MarkdownHeadingCollapsed": true
   },
   "source": [
    "## ENTRY_DATA "
   ]
  },
  {
   "cell_type": "markdown",
   "id": "bb26f865-50ba-409d-81e9-4b4a6bfa0828",
   "metadata": {},
   "source": [
    "### attr"
   ]
  },
  {
   "cell_type": "markdown",
   "id": "34309e46-ca08-4e01-b0ce-4443eae2a1c5",
   "metadata": {},
   "source": [
    "  [c_personid] INTEGER NOT NULL,\n",
    "  [c_entry_code] INTEGER NOT NULL,\n",
    "  [c_sequence] INTEGER NOT NULL,\n",
    "  [c_exam_rank] CHAR(255),\n",
    "  [c_kin_code] INTEGER NOT NULL,\n",
    "  [c_kin_id] INTEGER NOT NULL,\n",
    "  [c_assoc_code] INTEGER NOT NULL,\n",
    "  [c_assoc_id] INTEGER NOT NULL,\n",
    "  [c_year] INTEGER NOT NULL,\n",
    "  [c_age] INTEGER,\n",
    "  [c_nianhao_id] INTEGER,\n",
    "  [c_entry_nh_year] INTEGER,\n",
    "  [c_entry_range] INTEGER,\n",
    "  [c_inst_code] INTEGER NOT NULL,\n",
    "  [c_inst_name_code] INTEGER NOT NULL,\n",
    "  [c_exam_field] CHAR(255),\n",
    "  [c_entry_addr_id] INTEGER,\n",
    "  [c_parental_status] INTEGER,\n",
    "  [c_attempt_count] INTEGER,\n",
    "  [c_source] INTEGER,\n",
    "  [c_pages] CHAR(255),\n",
    "  [c_notes] CHAR,\n",
    "  [c_posting_notes] CHAR(255),\n",
    "  [c_created_by] CHAR(255),\n",
    "  [c_created_date] CHAR(255),\n",
    "  [c_modified_by] CHAR(255),\n",
    "  [c_modified_date] CHAR(255));\n"
   ]
  },
  {
   "cell_type": "markdown",
   "id": "419bbcf2-3584-4704-98f3-de53d8758f36",
   "metadata": {},
   "source": [
    "### index"
   ]
  },
  {
   "cell_type": "markdown",
   "id": "9a76e8dd-d619-46af-a521-7326e84e24e0",
   "metadata": {},
   "source": [
    "CREATE INDEX [ENTRY_DATA_entry_data]\n",
    "ON [ENTRY_DATA](\n",
    "  [c_personid] ASC,\n",
    "  [c_entry_code] ASC,\n",
    "  [c_sequence] ASC,\n",
    "  [c_kin_code] ASC,\n",
    "  [c_kin_id] ASC,\n",
    "  [c_assoc_code] ASC,\n",
    "  [c_assoc_id] ASC,\n",
    "  [c_year] ASC,\n",
    "  [c_inst_code] ASC,\n",
    "  [c_inst_name_code] ASC);\n",
    "CREATE INDEX [ENTRY_DATA_c_addr_id] ON [ENTRY_DATA]([c_entry_addr_id] ASC);\n",
    "CREATE INDEX [ENTRY_DATA_c_assoc_code] ON [ENTRY_DATA]([c_assoc_code] ASC);\n",
    "CREATE INDEX [ENTRY_DATA_c_assoc_id] ON [ENTRY_DATA]([c_assoc_id] ASC);\n",
    "CREATE INDEX [ENTRY_DATA_c_entry_code] ON [ENTRY_DATA]([c_entry_code] ASC);\n",
    "CREATE INDEX [ENTRY_DATA_c_kin_code] ON [ENTRY_DATA]([c_kin_code] ASC);\n",
    "CREATE INDEX [ENTRY_DATA_c_kin_id] ON [ENTRY_DATA]([c_kin_id] ASC);\n",
    "CREATE INDEX [ENTRY_DATA_c_nianhao_id] ON [ENTRY_DATA]([c_nianhao_id] ASC);\n",
    "CREATE INDEX [ENTRY_DATA_c_personid] ON [ENTRY_DATA]([c_personid] ASC);\n",
    "CREATE INDEX [ENTRY_DATA_c_social_ins_name_code]\n",
    "ON [ENTRY_DATA]([c_inst_name_code] ASC);\n",
    "CREATE INDEX [ENTRY_DATA_c_social_inst_code] ON [ENTRY_DATA]([c_inst_code] ASC);"
   ]
  },
  {
   "cell_type": "markdown",
   "id": "263c9254-8cb0-459f-b6de-6422d15b35af",
   "metadata": {
    "jp-MarkdownHeadingCollapsed": true
   },
   "source": [
    "## ENTRY_TYPES"
   ]
  },
  {
   "cell_type": "markdown",
   "id": "97f7fea8-d5b7-4430-94fa-2efc42df813d",
   "metadata": {},
   "source": [
    "### attr"
   ]
  },
  {
   "cell_type": "markdown",
   "id": "1af90dc8-c24b-444a-a870-81610c8fb1eb",
   "metadata": {},
   "source": [
    "  [c_entry_type] CHAR(255),\n",
    "  [c_entry_type_desc] CHAR(255),\n",
    "  [c_entry_type_desc_chn] CHAR(255),\n",
    "  [c_entry_type_parent_id] CHAR(255),\n",
    "  [c_entry_type_level] FLOAT,\n",
    "  [c_entry_type_sortorder] FLOAT);\n"
   ]
  },
  {
   "cell_type": "markdown",
   "id": "276c3b30-c806-476d-97b2-a9d246d7e863",
   "metadata": {
    "jp-MarkdownHeadingCollapsed": true
   },
   "source": [
    "### index"
   ]
  },
  {
   "cell_type": "markdown",
   "id": "294c91bd-bb57-471f-a484-6452f34463a1",
   "metadata": {},
   "source": [
    "CREATE INDEX [ENTRY_TYPES_PrimaryKey] ON [ENTRY_TYPES]([c_entry_type] ASC);\n",
    "CREATE INDEX [ENTRY_TYPES_type_id] ON [ENTRY_TYPES]([c_entry_type] ASC);\n",
    "CREATE INDEX [ENTRY_TYPES_type_parent_id]\n",
    "ON [ENTRY_TYPES]([c_entry_type_parent_id] ASC);"
   ]
  },
  {
   "cell_type": "markdown",
   "id": "600d6638-65b6-4718-918c-08ca472cf544",
   "metadata": {
    "jp-MarkdownHeadingCollapsed": true
   },
   "source": [
    "## ETHNICITY_TRIBE_CODES"
   ]
  },
  {
   "cell_type": "markdown",
   "id": "ffe4755e-4714-4463-aebc-6cf1ebdf01b1",
   "metadata": {},
   "source": [
    "### attr"
   ]
  },
  {
   "cell_type": "markdown",
   "id": "57d8af20-249b-44ba-8683-26c35fb03e95",
   "metadata": {},
   "source": [
    "  [c_ethnicity_code] INTEGER,\n",
    "  [c_group_code] INTEGER,\n",
    "  [c_subgroup_code] INTEGER,\n",
    "  [c_altname_code] INTEGER,\n",
    "  [c_name_chn] CHAR(255),\n",
    "  [c_name] CHAR(255),\n",
    "  [c_ethno_legal_cat] CHAR(255),\n",
    "  [c_romanized] CHAR(255),\n",
    "  [c_surname] CHAR(255),\n",
    "  [c_notes] CHAR,\n",
    "  [JiuTangShu] CHAR(255),\n",
    "  [XinTangShu] CHAR(255),\n",
    "  [JiuWudaiShi] CHAR(255),\n",
    "  [XinWudaiShi] CHAR(255),\n",
    "  [SongShi] CHAR(255),\n",
    "  [LiaoShi] CHAR(255),\n",
    "  [JinShi] CHAR(255),\n",
    "  [YuanShi] CHAR(255),\n",
    "  [MingShi] CHAR(255),\n",
    "  [QingShiGao] CHAR(255),\n",
    "  [c_sortorder] INTEGER);\n"
   ]
  },
  {
   "cell_type": "markdown",
   "id": "4436dbeb-de68-4443-9616-951779d581bb",
   "metadata": {},
   "source": [
    "### index"
   ]
  },
  {
   "cell_type": "markdown",
   "id": "9c6803d3-54ea-4ece-8ba8-76cec07b2dfe",
   "metadata": {},
   "source": [
    "CREATE INDEX [ETHNICITY_TRIBE_CODES_ethnicity_tree]\n",
    "ON [ETHNICITY_TRIBE_CODES](\n",
    "  [c_group_code] ASC,\n",
    "  [c_subgroup_code] ASC,\n",
    "  [c_altname_code] ASC);\n",
    "CREATE INDEX [ETHNICITY_TRIBE_CODES_c_ethnicity_code]\n",
    "ON [ETHNICITY_TRIBE_CODES]([c_ethnicity_code] ASC);"
   ]
  },
  {
   "cell_type": "markdown",
   "id": "6a5ad6fc-7afe-4e77-8eb8-1bed6db03f82",
   "metadata": {
    "jp-MarkdownHeadingCollapsed": true
   },
   "source": [
    "## EVENTS_ADDR"
   ]
  },
  {
   "cell_type": "markdown",
   "id": "4974d232-65d2-4fcf-92ae-4c34fe0354e5",
   "metadata": {},
   "source": [
    "### attr"
   ]
  },
  {
   "cell_type": "markdown",
   "id": "0516fcf9-d30b-4b38-8fcf-35358b3f0a4d",
   "metadata": {},
   "source": [
    "  [c_event_record_id] INTEGER,\n",
    "  [c_personid] INTEGER,\n",
    "  [c_addr_id] INTEGER,\n",
    "  [c_year] INTEGER,\n",
    "  [c_nh_code] INTEGER,\n",
    "  [c_nh_year] INTEGER,\n",
    "  [c_yr_range] INTEGER,\n",
    "  [c_intercalary] BOOLEAN(2) NOT NULL,\n",
    "  [c_month] INTEGER,\n",
    "  [c_day] INTEGER,\n",
    "  [c_day_ganzhi] INTEGER);\n"
   ]
  },
  {
   "cell_type": "markdown",
   "id": "26bf6c9a-b78e-4b73-94ee-8d2473f030b2",
   "metadata": {},
   "source": [
    "### index"
   ]
  },
  {
   "cell_type": "markdown",
   "id": "e6f1c4a9-3d50-4413-82ae-ef5bac3b30fd",
   "metadata": {},
   "source": [
    "CREATE INDEX [EVENTS_ADDR_PrimaryKey]\n",
    "ON [EVENTS_ADDR](\n",
    "  [c_event_record_id] ASC,\n",
    "  [c_personid] ASC,\n",
    "  [c_addr_id] ASC);\n",
    "CREATE INDEX [EVENTS_ADDR_c_addr_id] ON [EVENTS_ADDR]([c_addr_id] ASC);\n",
    "CREATE INDEX [EVENTS_ADDR_c_event_record_id]\n",
    "ON [EVENTS_ADDR]([c_event_record_id] ASC);\n",
    "CREATE INDEX [EVENTS_ADDR_c_nh_code] ON [EVENTS_ADDR]([c_nh_code] ASC);\n",
    "CREATE INDEX [EVENTS_ADDR_c_personid] ON [EVENTS_ADDR]([c_personid] ASC);"
   ]
  },
  {
   "cell_type": "markdown",
   "id": "601865fb-687f-4c57-9c4a-916b7622f349",
   "metadata": {
    "jp-MarkdownHeadingCollapsed": true
   },
   "source": [
    "## EVENTS_DATA 人物大事"
   ]
  },
  {
   "cell_type": "markdown",
   "id": "73cba862-f82f-4ae9-a3b7-d89b681e3506",
   "metadata": {},
   "source": [
    "### attr"
   ]
  },
  {
   "cell_type": "markdown",
   "id": "008c79d8-8fb0-44ca-a23f-df5233098555",
   "metadata": {},
   "source": [
    "  [c_personid] INTEGER,\n",
    "  [c_sequence] INTEGER,\n",
    "  [c_event_record_id] INTEGER,\n",
    "  [c_event_code] INTEGER,\n",
    "  [c_role] CHAR(255),\n",
    "  [c_year] INTEGER,\n",
    "  [c_nh_code] INTEGER,\n",
    "  [c_nh_year] INTEGER,\n",
    "  [c_yr_range] INTEGER,\n",
    "  [c_intercalary] BOOLEAN(2) NOT NULL,\n",
    "  [c_month] INTEGER,\n",
    "  [c_day] INTEGER,\n",
    "  [c_day_ganzhi] INTEGER,\n",
    "  [c_addr_id] INTEGER,\n",
    "  [c_source] INTEGER,\n",
    "  [c_pages] CHAR(255),\n",
    "  [c_event] CHAR,\n",
    "  [c_notes] CHAR(255),\n",
    "  [c_created_by] CHAR(255),\n",
    "  [c_created_date] CHAR(255),\n",
    "  [c_modified_by] CHAR(255),\n",
    "  [c_modified_date] CHAR(255));\n"
   ]
  },
  {
   "cell_type": "markdown",
   "id": "5f926ff3-d7cb-427e-a482-28a971bc6c46",
   "metadata": {},
   "source": [
    "### index"
   ]
  },
  {
   "cell_type": "markdown",
   "id": "c556df38-9db0-43c9-8d57-27d59c3045e7",
   "metadata": {},
   "source": [
    "CREATE INDEX [EVENTS_DATA_c_addr_id] ON [EVENTS_DATA]([c_addr_id] ASC);\n",
    "CREATE INDEX [EVENTS_DATA_c_event_code] ON [EVENTS_DATA]([c_event_code] ASC);\n",
    "CREATE INDEX [EVENTS_DATA_c_event_record_id]\n",
    "ON [EVENTS_DATA]([c_event_record_id] ASC);\n",
    "CREATE INDEX [EVENTS_DATA_c_nh_code] ON [EVENTS_DATA]([c_nh_code] ASC);\n",
    "CREATE INDEX [EVENTS_DATA_c_person_id] ON [EVENTS_DATA]([c_personid] ASC);"
   ]
  },
  {
   "cell_type": "markdown",
   "id": "45895890-379f-4492-b6ec-da0f4ff73e81",
   "metadata": {
    "jp-MarkdownHeadingCollapsed": true
   },
   "source": [
    "## EVENT_CODES 人物大事代码"
   ]
  },
  {
   "cell_type": "markdown",
   "id": "d68117d1-b22b-4c33-9c35-153e4c0170c4",
   "metadata": {},
   "source": [
    "### attr"
   ]
  },
  {
   "cell_type": "markdown",
   "id": "a13cd25a-fea7-4b1e-b166-326cd5bb83cc",
   "metadata": {},
   "source": [
    "  [c_event_code] INTEGER NOT NULL,\n",
    "  [c_event_name_chn] CHAR(50),\n",
    "  [c_event_name] CHAR(50),\n",
    "  [c_fy_yr] INTEGER,\n",
    "  [c_ly_yr] INTEGER,\n",
    "  [c_fy_nh_code] INTEGER,\n",
    "  [c_ly_nh_code] INTEGER,\n",
    "  [c_fy_nh_yr] INTEGER,\n",
    "  [c_ly_nh_yr] INTEGER,\n",
    "  [c_fy_intercalary] BOOLEAN(2) NOT NULL,\n",
    "  [c_fy_month] INTEGER,\n",
    "  [c_ly_intercalary] BOOLEAN(2) NOT NULL,\n",
    "  [c_ly_month] INTEGER,\n",
    "  [c_fy_range] INTEGER,\n",
    "  [c_ly_range] INTEGER,\n",
    "  [c_addr_id] INTEGER,\n",
    "  [c_dy] INTEGER,\n",
    "  [c_source] INTEGER,\n",
    "  [c_pages] CHAR(50),\n",
    "  [c_event_notes] CHAR(255));\n"
   ]
  },
  {
   "cell_type": "markdown",
   "id": "14c5fc08-e269-4564-8a78-e06f8427fff2",
   "metadata": {},
   "source": [
    "### index"
   ]
  },
  {
   "cell_type": "markdown",
   "id": "85ed593b-6e21-41d8-8717-8a5224300cbd",
   "metadata": {},
   "source": [
    "CREATE INDEX [EVENT_CODES_PrimaryKey] ON [EVENT_CODES]([c_event_code] ASC);\n",
    "CREATE INDEX [EVENT_CODES_c_addr_id] ON [EVENT_CODES]([c_addr_id] ASC);\n",
    "CREATE INDEX [EVENT_CODES_c_end_yr_nh_code] ON [EVENT_CODES]([c_ly_nh_code] ASC);\n",
    "CREATE INDEX [EVENT_CODES_c_event_code] ON [EVENT_CODES]([c_event_code] ASC);\n",
    "CREATE INDEX [EVENT_CODES_c_fy_nh_code] ON [EVENT_CODES]([c_fy_nh_code] ASC);\n",
    "CREATE INDEX [EVENT_CODES_EVENT_CODESc_dy] ON [EVENT_CODES]([c_dy] ASC);"
   ]
  },
  {
   "cell_type": "markdown",
   "id": "1f3bc9a1-d97a-45d3-8b9c-8ba5b21562f1",
   "metadata": {
    "jp-MarkdownHeadingCollapsed": true
   },
   "source": [
    "## EXTANT_CODES"
   ]
  },
  {
   "cell_type": "markdown",
   "id": "966bbae3-509a-44d1-b3d6-d3310f9826e7",
   "metadata": {},
   "source": [
    "### attr"
   ]
  },
  {
   "cell_type": "markdown",
   "id": "35d7405e-dba9-47d2-a127-db8ac4485a08",
   "metadata": {},
   "source": [
    "  [c_extant_code] INTEGER,\n",
    "  [c_extant_desc] CHAR(50),\n",
    "  [c_extant_desc_chn] CHAR(50),\n",
    "  [c_extant_code_hd] CHAR(50));\n"
   ]
  },
  {
   "cell_type": "markdown",
   "id": "80ee8717-e460-40df-bb73-1e14b884973e",
   "metadata": {},
   "source": [
    "### index"
   ]
  },
  {
   "cell_type": "markdown",
   "id": "74342629-0197-4be1-9654-d920e742ba16",
   "metadata": {},
   "source": [
    "CREATE INDEX [EXTANT_CODES_PrimaryKey] ON [EXTANT_CODES]([c_extant_code] ASC);\n",
    "CREATE INDEX [EXTANT_CODES_c_extant_code] ON [EXTANT_CODES]([c_extant_code] ASC);\n",
    "CREATE INDEX [EXTANT_CODES_c_extant_hd_code]\n",
    "ON [EXTANT_CODES]([c_extant_code_hd] ASC);"
   ]
  },
  {
   "cell_type": "markdown",
   "id": "c4d8a326-2fe1-4af0-bf7e-6da948926496",
   "metadata": {
    "jp-MarkdownHeadingCollapsed": true
   },
   "source": [
    "## ForeignKeys"
   ]
  },
  {
   "cell_type": "markdown",
   "id": "9baac49a-e97a-41b2-8542-1ff6f262a12d",
   "metadata": {},
   "source": [
    "### attr"
   ]
  },
  {
   "cell_type": "markdown",
   "id": "4377061b-ce21-4056-add8-4a4bd96c0557",
   "metadata": {},
   "source": [
    "  [AccessTblNm] CHAR(255),\n",
    "  [AccessFldNm] CHAR(255),\n",
    "  [ForeignKey] CHAR(255),\n",
    "  [ForeignKeyBaseField] CHAR(255),\n",
    "  [FKString] CHAR(255),\n",
    "  [FKName] CHAR(255),\n",
    "  [skip] INTEGER,\n",
    "  [IndexOnField] CHAR(255),\n",
    "  [DataFormat] CHAR(255),\n",
    "  [NULL_allowed] BOOLEAN(2) NOT NULL);\n"
   ]
  },
  {
   "cell_type": "markdown",
   "id": "52fcba5d-499b-487a-ac93-db57a65949ea",
   "metadata": {},
   "source": [
    "### index"
   ]
  },
  {
   "cell_type": "markdown",
   "id": "281369ff-f39f-48f9-be0e-2b055c6930e0",
   "metadata": {},
   "source": [
    "CREATE INDEX [ForeignKeys_PrimaryKey]\n",
    "ON [ForeignKeys](\n",
    "  [AccessTblNm] ASC,\n",
    "  [AccessFldNm] ASC);\n",
    "CREATE INDEX [ForeignKeys_ForeignKey] ON [ForeignKeys]([ForeignKey] ASC);"
   ]
  },
  {
   "cell_type": "markdown",
   "id": "2ee09af8-60e0-484d-a605-60f33c8278a8",
   "metadata": {
    "jp-MarkdownHeadingCollapsed": true
   },
   "source": [
    "## FormLabels"
   ]
  },
  {
   "cell_type": "markdown",
   "id": "e30ca5cf-d001-4ba8-b5db-389914df631a",
   "metadata": {},
   "source": [
    "### attr"
   ]
  },
  {
   "cell_type": "markdown",
   "id": "613540fb-3cc5-4214-ab3c-7f66494a7ab8",
   "metadata": {},
   "source": [
    "  [c_form] CHAR(50),\n",
    "  [c_label_id] INTEGER,\n",
    "  [c_english] CHAR(255),\n",
    "  [c_jianti] CHAR(90),\n",
    "  [c_fanti] CHAR(90));\n"
   ]
  },
  {
   "cell_type": "markdown",
   "id": "79d6aa51-7080-4c0d-bc86-bf0fec341d72",
   "metadata": {},
   "source": [
    "### index"
   ]
  },
  {
   "cell_type": "markdown",
   "id": "5124a652-b866-4067-866c-da9074acc51a",
   "metadata": {},
   "source": [
    "CREATE INDEX [FormLabels_label]\n",
    "ON [FormLabels](\n",
    "  [c_form] ASC,\n",
    "  [c_label_id] ASC);\n",
    "CREATE INDEX [FormLabels_c_label_id] ON [FormLabels]([c_label_id] ASC);"
   ]
  },
  {
   "cell_type": "markdown",
   "id": "ad1a7dea-17c6-4bf1-9fb0-3f9962800b6a",
   "metadata": {
    "jp-MarkdownHeadingCollapsed": true
   },
   "source": [
    "## GANZHI_CODES"
   ]
  },
  {
   "cell_type": "markdown",
   "id": "2da89277-f228-4268-a80d-bfa64b69f8e7",
   "metadata": {},
   "source": [
    "### attr"
   ]
  },
  {
   "cell_type": "markdown",
   "id": "726645d7-75b3-4cd6-8e3a-86c724e06381",
   "metadata": {},
   "source": [
    "  [c_ganzhi_code] INTEGER,\n",
    "  [c_ganzhi_chn] CHAR(50),\n",
    "  [c_ganzhi_py] CHAR(50));\n"
   ]
  },
  {
   "cell_type": "markdown",
   "id": "6249f3fd-5472-4880-9593-5ae6c6987d03",
   "metadata": {},
   "source": [
    "### index"
   ]
  },
  {
   "cell_type": "markdown",
   "id": "b609a807-4466-43b1-9a45-2b79f06093d6",
   "metadata": {},
   "source": [
    "CREATE INDEX [GANZHI_CODES_PrimaryKey] ON [GANZHI_CODES]([c_ganzhi_code] ASC);\n",
    "CREATE INDEX [GANZHI_CODES_c_ganzhi_code] ON [GANZHI_CODES]([c_ganzhi_code] ASC);"
   ]
  },
  {
   "cell_type": "markdown",
   "id": "64b73f76-366e-4989-83b0-b340aec312ff",
   "metadata": {
    "jp-MarkdownHeadingCollapsed": true
   },
   "source": [
    "## HOUSEHOLD_STATUS_CODES 家族身份代码"
   ]
  },
  {
   "cell_type": "markdown",
   "id": "e8003733-351b-40d5-8a71-bdf53d7c77b6",
   "metadata": {},
   "source": [
    "### attr"
   ]
  },
  {
   "cell_type": "markdown",
   "id": "99f8cdb4-42a8-4055-b3de-62c3c5aedb63",
   "metadata": {},
   "source": [
    "  [c_household_status_code] INTEGER,\n",
    "  [c_household_status_desc] CHAR(255),\n",
    "  [c_household_status_desc_chn] CHAR(255));\n"
   ]
  },
  {
   "cell_type": "markdown",
   "id": "0721177d-c32c-4e2c-bf99-44ec1e06d8a1",
   "metadata": {},
   "source": [
    "### index"
   ]
  },
  {
   "cell_type": "markdown",
   "id": "32e560be-0a05-4972-b72a-9075374c6482",
   "metadata": {},
   "source": [
    "CREATE INDEX [HOUSEHOLD_STATUS_CODES_c_household_status_code]\n",
    "ON [HOUSEHOLD_STATUS_CODES]([c_household_status_code] ASC);"
   ]
  },
  {
   "cell_type": "markdown",
   "id": "a9b2c9f5-e546-4550-b214-9eaf1d1ca43d",
   "metadata": {
    "jp-MarkdownHeadingCollapsed": true
   },
   "source": [
    "## INDEXYEAR_TYPE_CODES"
   ]
  },
  {
   "cell_type": "markdown",
   "id": "a84f5c28-1adc-4b21-b06d-5aa97e494458",
   "metadata": {},
   "source": [
    "### attr"
   ]
  },
  {
   "cell_type": "markdown",
   "id": "b105419c-8b14-4850-830c-e06751941e4b",
   "metadata": {},
   "source": [
    "  [c_index_year_type_code] CHAR(10) NOT NULL,\n",
    "  [c_index_year_type_desc] CHAR(255),\n",
    "  [c_index_year_type_hz] CHAR(255),\n",
    "  [c_notes] CHAR(255));\n"
   ]
  },
  {
   "cell_type": "markdown",
   "id": "b33c590e-b252-4ed8-9559-c156b964f3df",
   "metadata": {},
   "source": [
    "### index"
   ]
  },
  {
   "cell_type": "markdown",
   "id": "c1372274-b850-4b28-9c59-0b71428ec344",
   "metadata": {},
   "source": [
    "CREATE INDEX [INDEXYEAR_TYPE_CODES_PrimaryKey]\n",
    "ON [INDEXYEAR_TYPE_CODES]([c_index_year_type_code] ASC);\n",
    "CREATE INDEX [INDEXYEAR_TYPE_CODES_c_index_year_type_code]\n",
    "ON [INDEXYEAR_TYPE_CODES]([c_index_year_type_code] ASC);"
   ]
  },
  {
   "cell_type": "markdown",
   "id": "81646f38-9743-4b22-8e49-7be20ee02145",
   "metadata": {
    "jp-MarkdownHeadingCollapsed": true
   },
   "source": [
    "## KINSHIP_CODES 亲属关系类型代码"
   ]
  },
  {
   "cell_type": "markdown",
   "id": "5220b62c-6744-49df-8ec7-8644adbe8428",
   "metadata": {},
   "source": [
    "### attr"
   ]
  },
  {
   "cell_type": "markdown",
   "id": "dd99502c-82bc-4d61-89af-eb64f2b00eb6",
   "metadata": {},
   "source": [
    "  [c_kincode] INTEGER,\n",
    "  [c_kin_pair1] INTEGER,\n",
    "  [c_kin_pair2] INTEGER,\n",
    "  [c_kin_pair_notes] CHAR(50),\n",
    "  [c_kinrel_chn] CHAR(255),\n",
    "  [c_kinrel] CHAR(255),\n",
    "  [c_kinrel_alt] CHAR(255),\n",
    "  [c_pick_sorting] INTEGER,\n",
    "  [c_upstep] INTEGER,\n",
    "  [c_dwnstep] INTEGER,\n",
    "  [c_marstep] INTEGER,\n",
    "  [c_colstep] INTEGER,\n",
    "  [c_kinrel_simplified] CHAR(255));\n"
   ]
  },
  {
   "cell_type": "markdown",
   "id": "33401312-232a-4f35-bea5-b1f8e860e804",
   "metadata": {},
   "source": [
    "### index"
   ]
  },
  {
   "cell_type": "markdown",
   "id": "ee738a5f-c184-4fa9-a9de-aafc63f3503b",
   "metadata": {},
   "source": [
    "CREATE INDEX [KINSHIP_CODES_PrimaryKey] ON [KINSHIP_CODES]([c_kincode] ASC);\n",
    "CREATE INDEX [KINSHIP_CODES_KINSHIP_CODES_KIN_PAIR1]\n",
    "ON [KINSHIP_CODES]([c_kin_pair1] ASC);\n",
    "CREATE INDEX [KINSHIP_CODES_KINSHIP_CODES_KIN_PAIR2]\n",
    "ON [KINSHIP_CODES]([c_kin_pair2] ASC);\n",
    "CREATE INDEX [KINSHIP_CODES_KINSHIP_CODESc_kin_pair1]\n",
    "ON [KINSHIP_CODES]([c_kin_pair1] ASC);\n",
    "CREATE INDEX [KINSHIP_CODES_KINSHIP_CODESc_kin_pair2]\n",
    "ON [KINSHIP_CODES]([c_kin_pair2] ASC);"
   ]
  },
  {
   "cell_type": "markdown",
   "id": "6184442d-14de-4bfd-82fc-384ea901b32c",
   "metadata": {
    "jp-MarkdownHeadingCollapsed": true
   },
   "source": [
    "## KIN_DATA 亲属关系"
   ]
  },
  {
   "cell_type": "markdown",
   "id": "dc3e6e82-d6c7-4216-822c-7bc7294affe7",
   "metadata": {},
   "source": [
    "### attr"
   ]
  },
  {
   "cell_type": "markdown",
   "id": "a223771e-598d-4c06-a5fa-3464bbcc9129",
   "metadata": {},
   "source": [
    "  [c_personid] INTEGER NOT NULL,\n",
    "  [c_kin_id] INTEGER NOT NULL,\n",
    "  [c_kin_code] INTEGER NOT NULL,\n",
    "  [c_source] INTEGER,\n",
    "  [c_pages] CHAR(255),\n",
    "  [c_notes] CHAR,\n",
    "  [c_autogen_notes] CHAR,\n",
    "  [c_created_by] CHAR(255),\n",
    "  [c_created_date] CHAR(255),\n",
    "  [c_modified_by] CHAR(255),\n",
    "  [c_modified_date] CHAR(255));\n"
   ]
  },
  {
   "cell_type": "markdown",
   "id": "fa7fca37-ff65-4e8a-a518-aa377a52ca39",
   "metadata": {},
   "source": [
    "### index"
   ]
  },
  {
   "cell_type": "markdown",
   "id": "e3a339cf-6a6a-45df-852e-d39201b90473",
   "metadata": {},
   "source": [
    "CREATE INDEX [KIN_DATA_PrimaryKey]\n",
    "ON [KIN_DATA](\n",
    "  [c_personid] ASC,\n",
    "  [c_kin_id] ASC,\n",
    "  [c_kin_code] ASC);\n",
    "CREATE INDEX [KIN_DATA_c_kin_code] ON [KIN_DATA]([c_kin_code] ASC);\n",
    "CREATE INDEX [KIN_DATA_c_kin_id] ON [KIN_DATA]([c_kin_id] ASC);\n",
    "CREATE INDEX [KIN_DATA_c_personid] ON [KIN_DATA]([c_personid] ASC);\n",
    "CREATE INDEX [KIN_DATA_KIN_DATA_KIN_CODES] ON [KIN_DATA]([c_kin_code] ASC);\n",
    "CREATE INDEX [KIN_DATA_KIN_DATA_KIN_ID] ON [KIN_DATA]([c_kin_id] ASC);\n",
    "CREATE INDEX [KIN_DATA_KIN_DATA_PERSON_ID] ON [KIN_DATA]([c_personid] ASC);\n",
    "CREATE INDEX [KIN_DATA_KIN_DATA_SOURCE_TEXT_CODES] ON [KIN_DATA]([c_source] ASC);"
   ]
  },
  {
   "cell_type": "markdown",
   "id": "f98c0ef4-36ed-425e-baf8-7f321d71d709",
   "metadata": {
    "jp-MarkdownHeadingCollapsed": true
   },
   "source": [
    "## KIN_MOURNING_STEPS"
   ]
  },
  {
   "cell_type": "markdown",
   "id": "b65d72d7-db2f-458a-a50d-d3a21a3a8b14",
   "metadata": {},
   "source": [
    "### attr"
   ]
  },
  {
   "cell_type": "markdown",
   "id": "ef44d1a5-0a4a-4ee0-85c7-3c2f9c3105ed",
   "metadata": {},
   "source": [
    "  [c_kinrel] CHAR(255),\n",
    "  [c_upstep] INTEGER,\n",
    "  [c_dwnstep] INTEGER,\n",
    "  [c_marstep] INTEGER,\n",
    "  [c_colstep] INTEGER);"
   ]
  },
  {
   "cell_type": "markdown",
   "id": "72cbe646-836b-46c2-b48b-c15f8f7f6f07",
   "metadata": {
    "jp-MarkdownHeadingCollapsed": true
   },
   "source": [
    "## KIN_Mourning    家族祭日信息"
   ]
  },
  {
   "cell_type": "markdown",
   "id": "bd770e8f-a2d9-4c7e-9b98-8cabc73f669d",
   "metadata": {},
   "source": [
    "### attr"
   ]
  },
  {
   "cell_type": "markdown",
   "id": "0c710509-0ecc-475a-a947-bab570e06dd9",
   "metadata": {},
   "source": [
    "  [c_kinrel] CHAR(255),\n",
    "  [c_kinrel_alt] CHAR(255),\n",
    "  [c_kinrel_chn] CHAR(255),\n",
    "  [c_mourning] CHAR(255),\n",
    "  [c_mourning_chn] CHAR(255),\n",
    "  [c_kindist] CHAR(255),\n",
    "  [c_kintype] CHAR(255),\n",
    "  [c_kintype_desc] CHAR(255),\n",
    "  [c_kintype_desc_chn] CHAR(255),\n",
    "  [c_notes] CHAR(255));\n"
   ]
  },
  {
   "cell_type": "markdown",
   "id": "1c32627f-659f-4fcd-9860-86f987b8d2cc",
   "metadata": {},
   "source": [
    "### index"
   ]
  },
  {
   "cell_type": "markdown",
   "id": "2fac2e0e-eafb-4053-9657-b2fafebf5142",
   "metadata": {},
   "source": [
    "CREATE INDEX [KIN_Mourning_PrimaryKey] ON [KIN_Mourning]([c_kinrel] ASC);"
   ]
  },
  {
   "cell_type": "markdown",
   "id": "98e061b3-a3a0-4fa3-866a-fc04252ca64f",
   "metadata": {
    "jp-MarkdownHeadingCollapsed": true
   },
   "source": [
    "## LITERARYGENRE_CODES    文学流派、学术话题分类信息，适用于研究人物学术背景"
   ]
  },
  {
   "cell_type": "markdown",
   "id": "f3ba3b9a-24c3-4277-a88e-650a0ce9e882",
   "metadata": {},
   "source": [
    "### attr"
   ]
  },
  {
   "cell_type": "markdown",
   "id": "a63360de-6d22-4568-9820-4aef06d0872f",
   "metadata": {},
   "source": [
    "  [c_lit_genre_code] INTEGER,\n",
    "  [c_lit_genre_desc] CHAR(50),\n",
    "  [c_lit_genre_desc_chn] CHAR(50),\n",
    "  [c_sortorder] INTEGER);\n"
   ]
  },
  {
   "cell_type": "markdown",
   "id": "7eae0d4c-df96-4160-a23f-436a86ae67bf",
   "metadata": {},
   "source": [
    "### index"
   ]
  },
  {
   "cell_type": "markdown",
   "id": "4651a7ae-26a1-4f7c-8667-b5ab370e8f05",
   "metadata": {},
   "source": [
    "CREATE INDEX [LITERARYGENRE_CODES_PrimaryKey]\n",
    "ON [LITERARYGENRE_CODES]([c_lit_genre_code] ASC);\n",
    "CREATE INDEX [LITERARYGENRE_CODES_c_lit_genre_code]\n",
    "ON [LITERARYGENRE_CODES]([c_lit_genre_code] ASC);"
   ]
  },
  {
   "cell_type": "markdown",
   "id": "e524d561-ae42-42d8-a5ff-319c188a66a0",
   "metadata": {
    "jp-MarkdownHeadingCollapsed": true
   },
   "source": [
    "## MEASURE_CODES    度量单位"
   ]
  },
  {
   "cell_type": "markdown",
   "id": "0a40f699-c6c9-4462-89a0-ca1991fc1a39",
   "metadata": {},
   "source": [
    "### attr"
   ]
  },
  {
   "cell_type": "markdown",
   "id": "ecc793ed-080e-4278-9350-5fe516ac5667",
   "metadata": {},
   "source": [
    "  [c_measure_code] INTEGER,\n",
    "  [c_measure_desc] CHAR(50),\n",
    "  [c_measure_desc_chn] CHAR(50));\n"
   ]
  },
  {
   "cell_type": "markdown",
   "id": "28c701c9-5fd2-4b5c-8185-ddebfc6ea14f",
   "metadata": {},
   "source": [
    "### index"
   ]
  },
  {
   "cell_type": "markdown",
   "id": "611f9a19-1472-4ff0-9f69-f584c6758603",
   "metadata": {},
   "source": [
    "CREATE INDEX [MEASURE_CODES_PrimaryKey] ON [MEASURE_CODES]([c_measure_code] ASC);\n",
    "CREATE INDEX [MEASURE_CODES_c_measure_id]\n",
    "ON [MEASURE_CODES]([c_measure_code] ASC);"
   ]
  },
  {
   "cell_type": "markdown",
   "id": "4e620b0c-d976-41eb-a3d5-8024d0736f46",
   "metadata": {
    "jp-MarkdownHeadingCollapsed": true
   },
   "source": [
    "## NIAN_HAO    年号信息"
   ]
  },
  {
   "cell_type": "markdown",
   "id": "eafc48b4-c015-4166-b55d-389da0e1c272",
   "metadata": {},
   "source": [
    "### attr"
   ]
  },
  {
   "cell_type": "markdown",
   "id": "d19ba66d-556d-4929-80c6-760ec5fb9385",
   "metadata": {},
   "source": [
    "  [c_nianhao_id] INTEGER,\n",
    "  [c_dy] INTEGER,\n",
    "  [c_dynasty_chn] CHAR(255),\n",
    "  [c_nianhao_chn] CHAR(255),\n",
    "  [c_nianhao_pin] CHAR(255),\n",
    "  [c_firstyear] INTEGER,\n",
    "  [c_lastyear] INTEGER);\n"
   ]
  },
  {
   "cell_type": "markdown",
   "id": "89e24fe4-f87c-4000-8f9e-754ff567aad2",
   "metadata": {},
   "source": [
    "### index"
   ]
  },
  {
   "cell_type": "markdown",
   "id": "c323b3e1-a1a5-4d0b-bac7-b98124c48201",
   "metadata": {},
   "source": [
    "CREATE INDEX [NIAN_HAO_PrimaryKey] ON [NIAN_HAO]([c_nianhao_id] ASC);\n",
    "CREATE INDEX [NIAN_HAO_dynasty] ON [NIAN_HAO]([c_dy] ASC);\n",
    "CREATE INDEX [NIAN_HAO_NIAN_HAOc_dy] ON [NIAN_HAO]([c_dy] ASC);"
   ]
  },
  {
   "cell_type": "markdown",
   "id": "8800770b-b5aa-4434-9fc5-68de3cd0510d",
   "metadata": {
    "jp-MarkdownHeadingCollapsed": true
   },
   "source": [
    "## OCCASION_CODES 场合、活动代码"
   ]
  },
  {
   "cell_type": "markdown",
   "id": "d5df2d9d-4c82-4213-b3b6-ba3ea78aaa9b",
   "metadata": {},
   "source": [
    "### attr"
   ]
  },
  {
   "cell_type": "markdown",
   "id": "7c03a259-e5ad-41d3-9378-3347ebba4d03",
   "metadata": {},
   "source": [
    "  [c_occasion_code] INTEGER,\n",
    "  [c_occasion_desc] CHAR(50),\n",
    "  [c_occasion_desc_chn] CHAR(50),\n",
    "  [c_sortorder] INTEGER);\n"
   ]
  },
  {
   "cell_type": "markdown",
   "id": "47948c5c-016e-4853-a683-82ce802f91b5",
   "metadata": {},
   "source": [
    "### index"
   ]
  },
  {
   "cell_type": "markdown",
   "id": "f79e5d64-0187-4a50-8e3a-c7a469982077",
   "metadata": {},
   "source": [
    "CREATE INDEX [OCCASION_CODES_PrimaryKey]\n",
    "ON [OCCASION_CODES]([c_occasion_code] ASC);\n",
    "CREATE INDEX [OCCASION_CODES_c_occasion_code]\n",
    "ON [OCCASION_CODES]([c_occasion_code] ASC);"
   ]
  },
  {
   "cell_type": "markdown",
   "id": "cf231283-4da2-4dab-8e50-75c9a735adf8",
   "metadata": {
    "jp-MarkdownHeadingCollapsed": true
   },
   "source": [
    "## OFFICE_CATEGORIES    描述官职代码和类别"
   ]
  },
  {
   "cell_type": "markdown",
   "id": "6c1e554c-c773-4924-99db-5aadf41e8e32",
   "metadata": {},
   "source": [
    "### attr"
   ]
  },
  {
   "cell_type": "markdown",
   "id": "dd9db76e-cab9-43c1-8bbc-db657c43c1a7",
   "metadata": {},
   "source": [
    "  [c_office_category_id] INTEGER,\n",
    "  [c_category_desc] CHAR(255),\n",
    "  [c_category_desc_chn] CHAR(255),\n",
    "  [c_notes] CHAR(255));\n"
   ]
  },
  {
   "cell_type": "markdown",
   "id": "770500bc-5466-4ab0-9d67-54b4bb778b9d",
   "metadata": {},
   "source": [
    "### index"
   ]
  },
  {
   "cell_type": "markdown",
   "id": "03eb0b6a-4ee3-4729-85a8-5532d5981d68",
   "metadata": {},
   "source": [
    "CREATE INDEX [OFFICE_CATEGORIES_PrimaryKey]\n",
    "ON [OFFICE_CATEGORIES]([c_office_category_id] ASC);"
   ]
  },
  {
   "cell_type": "markdown",
   "id": "a8e99382-3afe-4251-af71-1dd0108de843",
   "metadata": {
    "jp-MarkdownHeadingCollapsed": true
   },
   "source": [
    "## OFFICE_CODES    描述官职代码和类别"
   ]
  },
  {
   "cell_type": "markdown",
   "id": "56910235-5d6a-42d5-b957-0bcd544e6328",
   "metadata": {},
   "source": [
    "### attr"
   ]
  },
  {
   "cell_type": "markdown",
   "id": "6b386097-9667-4e60-9cc9-addaf2bf3c03",
   "metadata": {},
   "source": [
    "  [c_office_id] INTEGER NOT NULL,\n",
    "  [c_dy] INTEGER,\n",
    "  [c_office_pinyin] CHAR(255),\n",
    "  [c_office_chn] CHAR(255),\n",
    "  [c_office_pinyin_alt] CHAR(255),\n",
    "  [c_office_chn_alt] CHAR(255),\n",
    "  [c_office_trans] CHAR(255),\n",
    "  [c_office_trans_alt] CHAR(255),\n",
    "  [c_source] INTEGER,\n",
    "  [c_pages] CHAR(255),\n",
    "  [c_notes] CHAR,\n",
    "  [c_category_1] CHAR(50),\n",
    "  [c_category_2] CHAR(50),\n",
    "  [c_category_3] CHAR(50),\n",
    "  [c_category_4] CHAR(50),\n",
    "  [c_office_id_old] INTEGER);\n"
   ]
  },
  {
   "cell_type": "markdown",
   "id": "707892ad-c2e7-4faa-99fb-cf3ec918442f",
   "metadata": {},
   "source": [
    "### index"
   ]
  },
  {
   "cell_type": "markdown",
   "id": "4c4dd2ca-e1dc-4fb0-9524-88d163e6eaa5",
   "metadata": {
    "jp-MarkdownHeadingCollapsed": true
   },
   "source": [
    "CREATE INDEX [OFFICE_CODES_PrimaryKey] ON [OFFICE_CODES]([c_office_id] ASC);\n",
    "CREATE INDEX [OFFICE_CODES_OFFICE_CODES_dynasty] ON [OFFICE_CODES]([c_dy] ASC);\n",
    "CREATE INDEX [OFFICE_CODES_OFFICE_CODES_SOURCE_TEXT_CODES]\n",
    "ON [OFFICE_CODES]([c_source] ASC);\n",
    "CREATE INDEX [OFFICE_CODES_OFFICE_CODESc_dy] ON [OFFICE_CODES]([c_dy] ASC);"
   ]
  },
  {
   "cell_type": "markdown",
   "id": "b3658784-bbb0-434c-80d0-9bb58bc8a5b7",
   "metadata": {
    "jp-MarkdownHeadingCollapsed": true
   },
   "source": [
    "## OFFICE_CODES_CONVERSION"
   ]
  },
  {
   "cell_type": "markdown",
   "id": "58887199-eb87-4c5a-9f62-5500fe867a8b",
   "metadata": {},
   "source": [
    "### attr"
   ]
  },
  {
   "cell_type": "markdown",
   "id": "e2f6f727-4ac5-404c-a5b1-d87ec29840dd",
   "metadata": {},
   "source": [
    "  [c_office_id_backup] INTEGER,\n",
    "  [c_office_chn_backup] CHAR(255),\n",
    "  [c_office_id] INTEGER,\n",
    "  [c_office_chn] CHAR(255));\n"
   ]
  },
  {
   "cell_type": "markdown",
   "id": "b9b2561a-41a4-4d73-96de-c8e86b518973",
   "metadata": {},
   "source": [
    "### index"
   ]
  },
  {
   "cell_type": "markdown",
   "id": "1ae8c311-a712-4215-b6c0-93bc88408ba3",
   "metadata": {},
   "source": [
    "CREATE INDEX [OFFICE_CODES_CONVERSION_c_office_id]\n",
    "ON [OFFICE_CODES_CONVERSION]([c_office_id] ASC);"
   ]
  },
  {
   "cell_type": "markdown",
   "id": "79355ebf-f711-4174-bf93-77f2ee9d8830",
   "metadata": {
    "jp-MarkdownHeadingCollapsed": true
   },
   "source": [
    "## OFFICE_CODE_TYPE_REL"
   ]
  },
  {
   "cell_type": "markdown",
   "id": "9062c617-1bfb-469e-b422-0d3d730cea9a",
   "metadata": {},
   "source": [
    "### attr"
   ]
  },
  {
   "cell_type": "markdown",
   "id": "41136675-e988-4016-8283-7f2b14b2953c",
   "metadata": {},
   "source": [
    "  [c_office_id] INTEGER NOT NULL,\n",
    "  [c_office_tree_id] CHAR(255) NOT NULL);\n"
   ]
  },
  {
   "cell_type": "markdown",
   "id": "34834842-26b4-441c-9a63-b4576f597148",
   "metadata": {},
   "source": [
    "### index"
   ]
  },
  {
   "cell_type": "markdown",
   "id": "3c1efe3d-1a10-482f-8739-11c81cecd806",
   "metadata": {},
   "source": [
    "CREATE INDEX [OFFICE_CODE_TYPE_REL_PrimaryKey]\n",
    "ON [OFFICE_CODE_TYPE_REL](\n",
    "  [c_office_id] ASC,\n",
    "  [c_office_tree_id] ASC);\n",
    "CREATE INDEX [OFFICE_CODE_TYPE_REL_c_office_tree_id]\n",
    "ON [OFFICE_CODE_TYPE_REL]([c_office_tree_id] ASC);\n",
    "CREATE INDEX [OFFICE_CODE_TYPE_REL_code_id]\n",
    "ON [OFFICE_CODE_TYPE_REL]([c_office_id] ASC);\n",
    "CREATE INDEX [OFFICE_CODE_TYPE_REL_OFFICE_CODE_TYPE_REL_OFFICE_ID]\n",
    "ON [OFFICE_CODE_TYPE_REL]([c_office_id] ASC);\n",
    "CREATE INDEX [OFFICE_CODE_TYPE_REL_OFFICE_CODE_TYPE_REL_OFFICE_TYPE_TREE]\n",
    "ON [OFFICE_CODE_TYPE_REL]([c_office_tree_id] ASC);"
   ]
  },
  {
   "cell_type": "markdown",
   "id": "6d4e7162-5ec0-467a-86b8-c2067b900c39",
   "metadata": {
    "jp-MarkdownHeadingCollapsed": true
   },
   "source": [
    "## OFFICE_TYPE_TREE 官职类型"
   ]
  },
  {
   "cell_type": "markdown",
   "id": "63e092ae-6ad2-451a-ac46-e59282a7c4a8",
   "metadata": {},
   "source": [
    "### attr"
   ]
  },
  {
   "cell_type": "markdown",
   "id": "8fc36164-431e-4e31-9d5f-5dfb8d64554f",
   "metadata": {},
   "source": [
    "  [c_office_type_node_id] CHAR(50) NOT NULL,\n",
    "  [c_office_type_desc] CHAR(255),\n",
    "  [c_office_type_desc_chn] CHAR(255),\n",
    "  [c_parent_id] CHAR(50));\n"
   ]
  },
  {
   "cell_type": "markdown",
   "id": "246f5608-4f9e-46c4-8a05-41c3c034cb8a",
   "metadata": {},
   "source": [
    "### index"
   ]
  },
  {
   "cell_type": "markdown",
   "id": "fdfdc359-920d-486c-b1bf-826b238bd397",
   "metadata": {},
   "source": [
    "CREATE INDEX [OFFICE_TYPE_TREE_PrimaryKey]\n",
    "ON [OFFICE_TYPE_TREE]([c_office_type_node_id] ASC);\n",
    "CREATE INDEX [OFFICE_TYPE_TREE_c_node_id]\n",
    "ON [OFFICE_TYPE_TREE]([c_office_type_node_id] ASC);\n",
    "CREATE INDEX [OFFICE_TYPE_TREE_c_tree_id]\n",
    "ON [OFFICE_TYPE_TREE]([c_parent_id] ASC);\n",
    "CREATE INDEX [OFFICE_TYPE_TREE_OFFICE_TYPE_TREE_PARENT]\n",
    "ON [OFFICE_TYPE_TREE]([c_parent_id] ASC);"
   ]
  },
  {
   "cell_type": "markdown",
   "id": "b734d632-9932-4d8e-b8fd-1c354052e9be",
   "metadata": {
    "jp-MarkdownHeadingCollapsed": true
   },
   "source": [
    "## OFFICE_TYPE_TREE_backup"
   ]
  },
  {
   "cell_type": "markdown",
   "id": "ee8a7e7f-4bfc-4e2d-8e87-d7246a242166",
   "metadata": {},
   "source": [
    "### attr"
   ]
  },
  {
   "cell_type": "markdown",
   "id": "f80db958-bb55-432b-9f04-4e51d7c4bb9b",
   "metadata": {},
   "source": [
    "  [c_office_type_node_id] CHAR(50),\n",
    "  [c_tts_node_id] CHAR(255),\n",
    "  [c_office_type_desc] CHAR(255),\n",
    "  [c_office_type_desc_chn] CHAR(255),\n",
    "  [c_parent_id] CHAR(50));\n"
   ]
  },
  {
   "cell_type": "markdown",
   "id": "cb97b582-81d2-4d40-8b03-01d54f6787ed",
   "metadata": {},
   "source": [
    "### index"
   ]
  },
  {
   "cell_type": "markdown",
   "id": "83a792e3-9891-4375-9791-3bcdc47388db",
   "metadata": {},
   "source": [
    "CREATE INDEX [OFFICE_TYPE_TREE_backup_PrimaryKey]\n",
    "ON [OFFICE_TYPE_TREE_backup]([c_office_type_node_id] ASC);\n",
    "CREATE INDEX [OFFICE_TYPE_TREE_backup_c_node_id]\n",
    "ON [OFFICE_TYPE_TREE_backup]([c_office_type_node_id] ASC);\n",
    "CREATE INDEX [OFFICE_TYPE_TREE_backup_c_office_tts_id]\n",
    "ON [OFFICE_TYPE_TREE_backup]([c_tts_node_id] ASC);\n",
    "CREATE INDEX [OFFICE_TYPE_TREE_backup_c_tree_id]\n",
    "ON [OFFICE_TYPE_TREE_backup]([c_parent_id] ASC);"
   ]
  },
  {
   "cell_type": "markdown",
   "id": "d3161167-0220-4e02-97f5-879ebfa01c2f",
   "metadata": {
    "jp-MarkdownHeadingCollapsed": true
   },
   "source": [
    "## PARENTAL_STATUS_CODES"
   ]
  },
  {
   "cell_type": "markdown",
   "id": "9f25ff22-861e-4a3c-8dee-ffff5f943bc7",
   "metadata": {},
   "source": [
    "### attr"
   ]
  },
  {
   "cell_type": "markdown",
   "id": "c69202a5-caa2-424f-a0f6-a517a298d016",
   "metadata": {},
   "source": [
    "CREATE TABLE [PARENTAL_STATUS_CODES](\n",
    "  [c_parental_status_code] INTEGER,\n",
    "  [c_parental_status_desc] CHAR(255),\n",
    "  [c_parental_status_desc_chn] CHAR(255));\n"
   ]
  },
  {
   "cell_type": "markdown",
   "id": "a56a851c-2e35-4aa1-abdd-5627b5232fc4",
   "metadata": {},
   "source": [
    "### index"
   ]
  },
  {
   "cell_type": "markdown",
   "id": "8fc276f5-76c9-45cd-98d0-d355d7385bf7",
   "metadata": {},
   "source": [
    "CREATE INDEX [PARENTAL_STATUS_CODES_PrimaryKey]\n",
    "ON [PARENTAL_STATUS_CODES]([c_parental_status_code] ASC);\n",
    "CREATE INDEX [PARENTAL_STATUS_CODES_c_parental_status_code]\n",
    "ON [PARENTAL_STATUS_CODES]([c_parental_status_code] ASC);"
   ]
  },
  {
   "cell_type": "markdown",
   "id": "86672828-1fba-4cdd-bb18-4113bb0998fe",
   "metadata": {
    "jp-MarkdownHeadingCollapsed": true
   },
   "source": [
    "## PLACE_CODES    特定地点的代码，用于标准化地名"
   ]
  },
  {
   "cell_type": "markdown",
   "id": "4d4069a2-58a2-464d-a10b-0371a3252690",
   "metadata": {},
   "source": [
    "### attr"
   ]
  },
  {
   "cell_type": "markdown",
   "id": "6d56d2fc-badd-41e8-bd0b-fb7b30a2746b",
   "metadata": {},
   "source": [
    "  [c_place_id] FLOAT,\n",
    "  [c_place_1990] CHAR(50),\n",
    "  [c_name] CHAR(50),\n",
    "  [c_name_chn] CHAR(255),\n",
    "  [x_coord] FLOAT,\n",
    "  [y_coord] FLOAT);\n"
   ]
  },
  {
   "cell_type": "markdown",
   "id": "295acf9c-f792-4d7b-96b7-59a3cdf0e05e",
   "metadata": {},
   "source": [
    "### index"
   ]
  },
  {
   "cell_type": "markdown",
   "id": "4111b83f-b2db-4415-9672-5e07efc3c5b6",
   "metadata": {},
   "source": [
    "CREATE INDEX [PLACE_CODES_PrimaryKey] ON [PLACE_CODES]([c_place_id] ASC);"
   ]
  },
  {
   "cell_type": "markdown",
   "id": "73db027b-61e5-45e3-98e4-a306d58e3365",
   "metadata": {
    "jp-MarkdownHeadingCollapsed": true
   },
   "source": [
    "## POSSESSION_ACT_CODES"
   ]
  },
  {
   "cell_type": "markdown",
   "id": "97da60d6-53e7-4fd9-a5d5-777d9a7e6d67",
   "metadata": {},
   "source": [
    "### attr"
   ]
  },
  {
   "cell_type": "markdown",
   "id": "244059f8-032d-4ac5-baa2-c2c1774ce8ef",
   "metadata": {},
   "source": [
    "  [c_possession_act_code] INTEGER,\n",
    "  [c_possession_act_desc] CHAR(50),\n",
    "  [c_possession_act_desc_chn] CHAR(50));\n"
   ]
  },
  {
   "cell_type": "markdown",
   "id": "3737f61c-5b25-4a97-8880-b40a2a6f77fb",
   "metadata": {},
   "source": [
    "### index"
   ]
  },
  {
   "cell_type": "markdown",
   "id": "2280979f-a0f7-42f7-9657-88602127f2d0",
   "metadata": {},
   "source": [
    "CREATE INDEX [POSSESSION_ACT_CODES_PrimaryKey]\n",
    "ON [POSSESSION_ACT_CODES]([c_possession_act_code] ASC);\n",
    "CREATE INDEX [POSSESSION_ACT_CODES_c_possession_type_code]\n",
    "ON [POSSESSION_ACT_CODES]([c_possession_act_code] ASC);"
   ]
  },
  {
   "cell_type": "markdown",
   "id": "f82b0322-c411-4cda-900d-0012a5620496",
   "metadata": {
    "jp-MarkdownHeadingCollapsed": true
   },
   "source": [
    "## POSSESSION_ADDR"
   ]
  },
  {
   "cell_type": "markdown",
   "id": "60f9ade7-f768-4256-bbbd-4dd2ded34637",
   "metadata": {},
   "source": [
    "### attr"
   ]
  },
  {
   "cell_type": "markdown",
   "id": "7baf7449-a294-4626-bc38-693a34eec1ff",
   "metadata": {},
   "source": [
    "  [c_possession_record_id] INTEGER,\n",
    "  [c_personid] INTEGER,\n",
    "  [c_addr_id] INTEGER);\n"
   ]
  },
  {
   "cell_type": "markdown",
   "id": "bb4bb69d-987c-4e67-81c6-f9e2969a41db",
   "metadata": {},
   "source": [
    "### index"
   ]
  },
  {
   "cell_type": "markdown",
   "id": "01d943fa-3d9c-493d-9709-4e5d224000d9",
   "metadata": {},
   "source": [
    "CREATE INDEX [POSSESSION_ADDR_PrimaryKey]\n",
    "ON [POSSESSION_ADDR](\n",
    "  [c_possession_record_id] ASC,\n",
    "  [c_personid] ASC,\n",
    "  [c_addr_id] ASC);\n",
    "CREATE INDEX [POSSESSION_ADDR_c_addr_id] ON [POSSESSION_ADDR]([c_addr_id] ASC);\n",
    "CREATE INDEX [POSSESSION_ADDR_c_personid] ON [POSSESSION_ADDR]([c_personid] ASC);\n",
    "CREATE INDEX [POSSESSION_ADDR_c_possession_record_id]\n",
    "ON [POSSESSION_ADDR]([c_possession_record_id] ASC);\n",
    "CREATE INDEX [POSSESSION_ADDR_POSSESSION_ADDR_ADDR_ID]\n",
    "ON [POSSESSION_ADDR]([c_addr_id] ASC);\n",
    "CREATE INDEX [POSSESSION_ADDR_POSSESSION_ADDR_PERSON_ID]\n",
    "ON [POSSESSION_ADDR]([c_personid] ASC);\n",
    "CREATE INDEX [POSSESSION_ADDR_POSSESSION_ADDR_possession_id]\n",
    "ON [POSSESSION_ADDR]([c_possession_record_id] ASC);"
   ]
  },
  {
   "cell_type": "markdown",
   "id": "f3cbc1cb-6a10-44bd-ba5b-1f072a32762a",
   "metadata": {
    "jp-MarkdownHeadingCollapsed": true
   },
   "source": [
    "## POSSESSION_DATA"
   ]
  },
  {
   "cell_type": "markdown",
   "id": "ca02bb9a-cb78-41c3-aba3-1ee4756c32de",
   "metadata": {},
   "source": [
    "### attr"
   ]
  },
  {
   "cell_type": "markdown",
   "id": "5ffd25d2-f70e-4a16-b6fa-2f7d98f4fc1a",
   "metadata": {},
   "source": [
    "  [c_personid] INTEGER,\n",
    "  [c_possession_record_id] INTEGER NOT NULL,\n",
    "  [c_sequence] INTEGER,\n",
    "  [c_possession_act_code] INTEGER,\n",
    "  [c_possession_desc] CHAR(50),\n",
    "  [c_possession_desc_chn] CHAR(50),\n",
    "  [c_quantity] CHAR(50),\n",
    "  [c_measure_code] INTEGER,\n",
    "  [c_possession_yr] INTEGER,\n",
    "  [c_possession_nh_code] INTEGER,\n",
    "  [c_possession_nh_yr] INTEGER,\n",
    "  [c_possession_yr_range] INTEGER,\n",
    "  [c_addr_id] INTEGER,\n",
    "  [c_source] INTEGER,\n",
    "  [c_pages] CHAR(50),\n",
    "  [c_notes] CHAR,\n",
    "  [c_created_by] CHAR(255),\n",
    "  [c_created_date] CHAR(255),\n",
    "  [c_modified_by] CHAR(255),\n",
    "  [c_modified_date] CHAR(255));\n"
   ]
  },
  {
   "cell_type": "markdown",
   "id": "b8670967-8cab-46d8-8b09-6fa05a5a755d",
   "metadata": {},
   "source": [
    "### index"
   ]
  },
  {
   "cell_type": "markdown",
   "id": "8febb6af-d4dd-4f61-a6b7-1f5d79d99c34",
   "metadata": {},
   "source": [
    "CREATE INDEX [POSSESSION_DATA_PrimaryKey]\n",
    "ON [POSSESSION_DATA]([c_possession_record_id] ASC);\n",
    "CREATE INDEX [POSSESSION_DATA_c_addr_id] ON [POSSESSION_DATA]([c_addr_id] ASC);\n",
    "CREATE INDEX [POSSESSION_DATA_c_personid] ON [POSSESSION_DATA]([c_personid] ASC);\n",
    "CREATE INDEX [POSSESSION_DATA_c_possession_nh_code]\n",
    "ON [POSSESSION_DATA]([c_possession_nh_code] ASC);\n",
    "CREATE INDEX [POSSESSION_DATA_POSSESSION_DATA_ADDR_ID]\n",
    "ON [POSSESSION_DATA]([c_addr_id] ASC);\n",
    "CREATE INDEX [POSSESSION_DATA_POSSESSION_DATA_MEASURE_CODE]\n",
    "ON [POSSESSION_DATA]([c_measure_code] ASC);\n",
    "CREATE INDEX [POSSESSION_DATA_POSSESSION_DATA_nian_hao]\n",
    "ON [POSSESSION_DATA]([c_possession_nh_code] ASC);\n",
    "CREATE INDEX [POSSESSION_DATA_POSSESSION_DATA_PERSON_ID]\n",
    "ON [POSSESSION_DATA]([c_personid] ASC);\n",
    "CREATE INDEX [POSSESSION_DATA_POSSESSION_DATA_possession_act_code]\n",
    "ON [POSSESSION_DATA]([c_possession_act_code] ASC);\n",
    "CREATE INDEX [POSSESSION_DATA_POSSESSION_DATA_SOURCE_TEXT_CODE]\n",
    "ON [POSSESSION_DATA]([c_source] ASC);\n",
    "CREATE INDEX [POSSESSION_DATA_POSSESSION_DATA_year_range_code]\n",
    "ON [POSSESSION_DATA]([c_possession_yr_range] ASC);\n",
    "CREATE INDEX [POSSESSION_DATA_POSSESSION_DATAc_measure_code]\n",
    "ON [POSSESSION_DATA]([c_measure_code] ASC);\n",
    "CREATE INDEX [POSSESSION_DATA_POSSESSION_DATAc_possession_act_code]\n",
    "ON [POSSESSION_DATA]([c_possession_act_code] ASC);"
   ]
  },
  {
   "cell_type": "markdown",
   "id": "921ce73e-565c-4233-a078-33965599b41d",
   "metadata": {
    "jp-MarkdownHeadingCollapsed": true
   },
   "source": [
    "## POSTED_TO_ADDR_DATA 派遣的地点"
   ]
  },
  {
   "cell_type": "markdown",
   "id": "47634174-70e7-4f6f-9169-600074b6caff",
   "metadata": {},
   "source": [
    "### attr"
   ]
  },
  {
   "cell_type": "markdown",
   "id": "59da8b7b-fa74-483f-a0c3-8a9b1098a629",
   "metadata": {},
   "source": [
    "  [c_posting_id] INTEGER NOT NULL,\n",
    "  [c_personid] INTEGER,\n",
    "  [c_office_id] INTEGER NOT NULL,\n",
    "  [c_addr_id] INTEGER NOT NULL,\n",
    "  [c_posting_id_old] INTEGER);\n"
   ]
  },
  {
   "cell_type": "markdown",
   "id": "dce52598-c1cf-407b-a304-9e216500ea86",
   "metadata": {},
   "source": [
    "### index"
   ]
  },
  {
   "cell_type": "markdown",
   "id": "08c8909d-7a67-4f18-b3f2-3203e2df1988",
   "metadata": {},
   "source": [
    "CREATE INDEX [POSTED_TO_ADDR_DATA_PrimaryKey]\n",
    "ON [POSTED_TO_ADDR_DATA](\n",
    "  [c_posting_id] ASC,\n",
    "  [c_addr_id] ASC,\n",
    "  [c_office_id] ASC);\n",
    "CREATE INDEX [POSTED_TO_ADDR_DATA_POSTED_TO_ADDR_DATA_ADDR_ID]\n",
    "ON [POSTED_TO_ADDR_DATA]([c_addr_id] ASC);\n",
    "CREATE INDEX [POSTED_TO_ADDR_DATA_POSTED_TO_ADDR_DATA_OFFICE_ID]\n",
    "ON [POSTED_TO_ADDR_DATA]([c_office_id] ASC);\n",
    "CREATE INDEX [POSTED_TO_ADDR_DATA_POSTED_TO_ADDR_DATA_PERSON_ID]\n",
    "ON [POSTED_TO_ADDR_DATA]([c_personid] ASC);\n",
    "CREATE INDEX [POSTED_TO_ADDR_DATA_POSTED_TO_ADDR_DATA_POSTING_ID]\n",
    "ON [POSTED_TO_ADDR_DATA]([c_posting_id] ASC);\n",
    "CREATE INDEX [POSTED_TO_ADDR_DATA_POSTED_TO_ADDR_DATAc_addr_id]\n",
    "ON [POSTED_TO_ADDR_DATA]([c_addr_id] ASC);\n",
    "CREATE INDEX [POSTED_TO_ADDR_DATA_POSTING_ADDR_DATAc_posting_id]\n",
    "ON [POSTED_TO_ADDR_DATA]([c_posting_id] ASC);"
   ]
  },
  {
   "cell_type": "markdown",
   "id": "0c518be2-30ff-4dfa-99a6-cd85ac6c376c",
   "metadata": {
    "jp-MarkdownHeadingCollapsed": true
   },
   "source": [
    "## POSTED_TO_OFFICE_DATA    描述官职代码和类别"
   ]
  },
  {
   "cell_type": "markdown",
   "id": "655b90a3-a046-4041-9384-197214c8fba9",
   "metadata": {},
   "source": [
    "### attr"
   ]
  },
  {
   "cell_type": "markdown",
   "id": "4b3ca7b7-ecbe-4e96-8b4b-46244edee575",
   "metadata": {},
   "source": [
    "  [c_personid] INTEGER,\n",
    "  [c_office_id] INTEGER NOT NULL,\n",
    "  [c_posting_id] INTEGER NOT NULL,\n",
    "  [c_posting_id_old] INTEGER,\n",
    "  [c_sequence] INTEGER,\n",
    "  [c_firstyear] INTEGER,\n",
    "  [c_fy_nh_code] INTEGER,\n",
    "  [c_fy_nh_year] INTEGER,\n",
    "  [c_fy_range] INTEGER,\n",
    "  [c_lastyear] INTEGER,\n",
    "  [c_ly_nh_code] INTEGER,\n",
    "  [c_ly_nh_year] INTEGER,\n",
    "  [c_ly_range] INTEGER,\n",
    "  [c_appt_type_code] INTEGER,\n",
    "  [c_assume_office_code] INTEGER,\n",
    "  [c_inst_code] INTEGER,\n",
    "  [c_inst_name_code] INTEGER,\n",
    "  [c_source] INTEGER,\n",
    "  [c_pages] CHAR(255),\n",
    "  [c_notes] CHAR,\n",
    "  [c_office_id_backup] INTEGER,\n",
    "  [c_office_category_id] INTEGER,\n",
    "  [c_fy_intercalary] BOOLEAN(2) NOT NULL,\n",
    "  [c_fy_month] INTEGER,\n",
    "  [c_ly_intercalary] BOOLEAN(2) NOT NULL,\n",
    "  [c_ly_month] INTEGER,\n",
    "  [c_fy_day] INTEGER,\n",
    "  [c_ly_day] INTEGER,\n",
    "  [c_fy_day_gz] INTEGER,\n",
    "  [c_ly_day_gz] INTEGER,\n",
    "  [c_dy] INTEGER,\n",
    "  [c_created_by] CHAR(255),\n",
    "  [c_created_date] CHAR(255),\n",
    "  [c_modified_by] CHAR(255),\n",
    "  [c_modified_date] CHAR(255));\n"
   ]
  },
  {
   "cell_type": "markdown",
   "id": "614b7ca7-5f1b-410b-8751-92809ea991ef",
   "metadata": {},
   "source": [
    "### index"
   ]
  },
  {
   "cell_type": "markdown",
   "id": "3d2a70cd-f1c6-4673-80e9-234cbf16d393",
   "metadata": {},
   "source": [
    "CREATE INDEX [POSTED_TO_OFFICE_DATA_PrimaryKey]\n",
    "ON [POSTED_TO_OFFICE_DATA](\n",
    "  [c_office_id] ASC,\n",
    "  [c_posting_id] ASC);\n",
    "CREATE INDEX [POSTED_TO_OFFICE_DATA_c_assume_office_code]\n",
    "ON [POSTED_TO_OFFICE_DATA]([c_assume_office_code] ASC);\n",
    "CREATE INDEX [POSTED_TO_OFFICE_DATA_c_fy_nh_code]\n",
    "ON [POSTED_TO_OFFICE_DATA]([c_fy_nh_code] ASC);\n",
    "CREATE INDEX [POSTED_TO_OFFICE_DATA_c_inst_code]\n",
    "ON [POSTED_TO_OFFICE_DATA]([c_inst_code] ASC);\n",
    "CREATE INDEX [POSTED_TO_OFFICE_DATA_c_inst_name_code]\n",
    "ON [POSTED_TO_OFFICE_DATA]([c_inst_name_code] ASC);\n",
    "CREATE INDEX [POSTED_TO_OFFICE_DATA_c_ly_nh_code]\n",
    "ON [POSTED_TO_OFFICE_DATA]([c_ly_nh_code] ASC);\n",
    "CREATE INDEX [POSTED_TO_OFFICE_DATA_c_office_category_id]\n",
    "ON [POSTED_TO_OFFICE_DATA]([c_office_category_id] ASC);\n",
    "CREATE INDEX [POSTED_TO_OFFICE_DATA_c_office_id]\n",
    "ON [POSTED_TO_OFFICE_DATA]([c_office_id] ASC);\n",
    "CREATE INDEX [POSTED_TO_OFFICE_DATA_c_personid]\n",
    "ON [POSTED_TO_OFFICE_DATA]([c_personid] ASC);\n",
    "CREATE INDEX [POSTED_TO_OFFICE_DATA_POST_DATAc_appt_type_code]\n",
    "ON [POSTED_TO_OFFICE_DATA]([c_appt_type_code] ASC);\n",
    "CREATE INDEX [POSTED_TO_OFFICE_DATA_POSTED_TO_OFFICE_DATA_appointment_type_code]\n",
    "ON [POSTED_TO_OFFICE_DATA]([c_appt_type_code] ASC);\n",
    "CREATE INDEX [POSTED_TO_OFFICE_DATA_POSTED_TO_OFFICE_DATA_assume_office_code]\n",
    "ON [POSTED_TO_OFFICE_DATA]([c_assume_office_code] ASC);\n",
    "CREATE INDEX [POSTED_TO_OFFICE_DATA_POSTED_TO_OFFICE_DATA_dynasty]\n",
    "ON [POSTED_TO_OFFICE_DATA]([c_dy] ASC);\n",
    "CREATE INDEX [POSTED_TO_OFFICE_DATA_POSTED_TO_OFFICE_DATA_GANZHI_FY_DAY]\n",
    "ON [POSTED_TO_OFFICE_DATA]([c_fy_day_gz] ASC);\n",
    "CREATE INDEX [POSTED_TO_OFFICE_DATA_POSTED_TO_OFFICE_DATA_GANZHI_LY_DAY]\n",
    "ON [POSTED_TO_OFFICE_DATA]([c_ly_day_gz] ASC);\n",
    "CREATE INDEX [POSTED_TO_OFFICE_DATA_POSTED_TO_OFFICE_DATA_nian_hao_fy]\n",
    "ON [POSTED_TO_OFFICE_DATA]([c_fy_nh_code] ASC);\n",
    "CREATE INDEX [POSTED_TO_OFFICE_DATA_POSTED_TO_OFFICE_DATA_nian_hao_ly]\n",
    "ON [POSTED_TO_OFFICE_DATA]([c_ly_nh_code] ASC);\n",
    "CREATE INDEX [POSTED_TO_OFFICE_DATA_POSTED_TO_OFFICE_DATA_OFFICE_CATEGORY]\n",
    "ON [POSTED_TO_OFFICE_DATA]([c_office_category_id] ASC);\n",
    "CREATE INDEX [POSTED_TO_OFFICE_DATA_POSTED_TO_OFFICE_DATA_OFFICE_ID]\n",
    "ON [POSTED_TO_OFFICE_DATA]([c_office_id] ASC);\n",
    "CREATE INDEX [POSTED_TO_OFFICE_DATA_POSTED_TO_OFFICE_DATA_PERSON_ID]\n",
    "ON [POSTED_TO_OFFICE_DATA]([c_personid] ASC);\n",
    "CREATE INDEX [POSTED_TO_OFFICE_DATA_POSTED_TO_OFFICE_DATA_POSTING_ID]\n",
    "ON [POSTED_TO_OFFICE_DATA]([c_posting_id] ASC);\n",
    "CREATE INDEX [POSTED_TO_OFFICE_DATA_POSTED_TO_OFFICE_DATA_SOCIAL_INSTITUTION_CODE]\n",
    "ON [POSTED_TO_OFFICE_DATA](\n",
    "  [c_inst_name_code] ASC,\n",
    "  [c_inst_code] ASC);\n",
    "CREATE INDEX [POSTED_TO_OFFICE_DATA_POSTED_TO_OFFICE_DATA_SOCIAL_INSTITUTION_NAME_CODE]\n",
    "ON [POSTED_TO_OFFICE_DATA]([c_inst_name_code] ASC);\n",
    "CREATE INDEX [POSTED_TO_OFFICE_DATA_POSTED_TO_OFFICE_DATA_SOURCE_TEXT_CODE]\n",
    "ON [POSTED_TO_OFFICE_DATA]([c_source] ASC);\n",
    "CREATE INDEX [POSTED_TO_OFFICE_DATA_POSTED_TO_OFFICE_DATA_year_range_fy]\n",
    "ON [POSTED_TO_OFFICE_DATA]([c_fy_range] ASC);\n",
    "CREATE INDEX [POSTED_TO_OFFICE_DATA_POSTED_TO_OFFICE_DATA_year_range_ly]\n",
    "ON [POSTED_TO_OFFICE_DATA]([c_ly_range] ASC);\n",
    "CREATE INDEX [POSTED_TO_OFFICE_DATA_POSTED_TO_OFFICE_DATAc_dy]\n",
    "ON [POSTED_TO_OFFICE_DATA]([c_dy] ASC);\n",
    "CREATE INDEX [POSTED_TO_OFFICE_DATA_POSTING_OFFICE_DATAc_posting_id]\n",
    "ON [POSTED_TO_OFFICE_DATA]([c_posting_id] ASC);"
   ]
  },
  {
   "cell_type": "markdown",
   "id": "cb712118-a67a-4228-ba51-265d60be25b5",
   "metadata": {
    "jp-MarkdownHeadingCollapsed": true
   },
   "source": [
    "## POSTING_DATA 人物-官职。存人物的官职信息，与“OFFICE_CODES”表和“BIOG_MAIN”表关联，以支持每个历史人物可能有多个不同的官职经历"
   ]
  },
  {
   "cell_type": "markdown",
   "id": "a8ccc1f6-b183-4d14-8fe2-54f2fd6f046d",
   "metadata": {},
   "source": [
    "### attr"
   ]
  },
  {
   "cell_type": "markdown",
   "id": "cfad3f7a-3b98-4736-8d87-d6f7ffdf066d",
   "metadata": {},
   "source": [
    "  [c_personid] INTEGER,\n",
    "  [c_posting_id] INTEGER NOT NULL,\n",
    "  [c_posting_id_old] INTEGER);\n"
   ]
  },
  {
   "cell_type": "markdown",
   "id": "e3c4ca6a-325a-408c-bc1b-105e7906b9f9",
   "metadata": {},
   "source": [
    "### index"
   ]
  },
  {
   "cell_type": "markdown",
   "id": "9a8c4af7-e7b2-4f88-bb41-0d14f0971eb1",
   "metadata": {},
   "source": [
    "CREATE INDEX [POSTING_DATA_PrimaryKey] ON [POSTING_DATA]([c_posting_id] ASC);\n",
    "CREATE INDEX [POSTING_DATA_c_personid] ON [POSTING_DATA]([c_personid] ASC);\n",
    "CREATE INDEX [POSTING_DATA_POSTING_DATA_PERSON_ID]\n",
    "ON [POSTING_DATA]([c_personid] ASC);"
   ]
  },
  {
   "cell_type": "markdown",
   "id": "2ae3508c-b3cb-492e-8697-d97c321c8758",
   "metadata": {
    "jp-MarkdownHeadingCollapsed": true
   },
   "source": [
    "## SCHOLARLYTOPIC_CODES    文学流派、学术话题分类信息，适用于研究人物学术背景"
   ]
  },
  {
   "cell_type": "markdown",
   "id": "6927c098-ae59-4453-9bf0-58f095e3a523",
   "metadata": {},
   "source": [
    "### attr"
   ]
  },
  {
   "cell_type": "markdown",
   "id": "8ed0ebce-b6da-4ef0-a9e3-f04db825b3ac",
   "metadata": {},
   "source": [
    "  [c_topic_code] INTEGER,\n",
    "  [c_topic_desc] CHAR(50),\n",
    "  [c_topic_desc_chn] CHAR(50),\n",
    "  [c_topic_type_code] INTEGER,\n",
    "  [c_topic_type_desc] CHAR(50),\n",
    "  [c_topic_type_desc_chn] CHAR(50),\n",
    "  [c_sortorder] INTEGER);\n"
   ]
  },
  {
   "cell_type": "markdown",
   "id": "104cc9c0-965f-4629-bf34-036d34f92009",
   "metadata": {},
   "source": [
    "### index"
   ]
  },
  {
   "cell_type": "markdown",
   "id": "a650c658-fa2f-43b6-a4b1-7592b1c8a224",
   "metadata": {},
   "source": [
    "CREATE INDEX [SCHOLARLYTOPIC_CODES_PrimaryKey]\n",
    "ON [SCHOLARLYTOPIC_CODES]([c_topic_code] ASC);\n",
    "CREATE INDEX [SCHOLARLYTOPIC_CODES_c_topic_code]\n",
    "ON [SCHOLARLYTOPIC_CODES]([c_topic_code] ASC);\n",
    "CREATE INDEX [SCHOLARLYTOPIC_CODES_c_topic_type_code]\n",
    "ON [SCHOLARLYTOPIC_CODES]([c_topic_type_code] ASC);"
   ]
  },
  {
   "cell_type": "markdown",
   "id": "bbb0a948-3c09-46f6-927b-3786e5eed852",
   "metadata": {
    "jp-MarkdownHeadingCollapsed": true
   },
   "source": [
    "## SOCIAL_INSTITUTION_ADDR"
   ]
  },
  {
   "cell_type": "markdown",
   "id": "23943068-ae2d-4975-988a-f03468011e2f",
   "metadata": {},
   "source": [
    "### attr"
   ]
  },
  {
   "cell_type": "markdown",
   "id": "98823718-439f-4e22-879b-3c8232298302",
   "metadata": {},
   "source": [
    "  [c_inst_name_code] INTEGER NOT NULL,\n",
    "  [c_inst_code] INTEGER NOT NULL,\n",
    "  [c_inst_addr_type_code] INTEGER NOT NULL,\n",
    "  [c_inst_addr_begin_year] INTEGER,\n",
    "  [c_inst_addr_end_year] INTEGER,\n",
    "  [c_inst_addr_id] INTEGER NOT NULL,\n",
    "  [inst_xcoord] FLOAT NOT NULL,\n",
    "  [inst_ycoord] FLOAT NOT NULL,\n",
    "  [c_source] INTEGER,\n",
    "  [c_pages] CHAR(50),\n",
    "  [c_notes] CHAR);\n"
   ]
  },
  {
   "cell_type": "markdown",
   "id": "7441d8f5-2a56-4888-a422-be0bb888cc55",
   "metadata": {},
   "source": [
    "### index"
   ]
  },
  {
   "cell_type": "markdown",
   "id": "b1ffca68-a7ed-46b1-a0cb-cecf40b65a7d",
   "metadata": {},
   "source": [
    "CREATE INDEX [SOCIAL_INSTITUTION_ADDR_PrimaryKey]\n",
    "ON [SOCIAL_INSTITUTION_ADDR](\n",
    "  [c_inst_name_code] ASC,\n",
    "  [c_inst_code] ASC,\n",
    "  [c_inst_addr_type_code] ASC,\n",
    "  [inst_xcoord] ASC,\n",
    "  [inst_ycoord] ASC,\n",
    "  [c_inst_addr_id] ASC);\n",
    "CREATE INDEX [SOCIAL_INSTITUTION_ADDR_c_inst_addr_id]\n",
    "ON [SOCIAL_INSTITUTION_ADDR]([c_inst_addr_id] ASC);\n",
    "CREATE INDEX [SOCIAL_INSTITUTION_ADDR_c_inst_addr_type_id]\n",
    "ON [SOCIAL_INSTITUTION_ADDR]([c_inst_addr_type_code] ASC);\n",
    "CREATE INDEX [SOCIAL_INSTITUTION_ADDR_c_inst_name_code]\n",
    "ON [SOCIAL_INSTITUTION_ADDR]([c_inst_name_code] ASC);\n",
    "CREATE INDEX [SOCIAL_INSTITUTION_ADDR_c_new_code]\n",
    "ON [SOCIAL_INSTITUTION_ADDR]([c_inst_code] ASC);\n",
    "CREATE INDEX [SOCIAL_INSTITUTION_ADDR_SOCIAL_INSTITUTION_ADDR_ADDR_ID]\n",
    "ON [SOCIAL_INSTITUTION_ADDR]([c_inst_addr_id] ASC);\n",
    "CREATE INDEX [SOCIAL_INSTITUTION_ADDR_SOCIAL_INSTITUTION_ADDR_SOCIAL_INSTITUTION_CODE]\n",
    "ON [SOCIAL_INSTITUTION_ADDR](\n",
    "  [c_inst_name_code] ASC,\n",
    "  [c_inst_code] ASC);\n",
    "CREATE INDEX [SOCIAL_INSTITUTION_ADDR_SOCIAL_INSTITUTION_ADDR_TEXT_CODES]\n",
    "ON [SOCIAL_INSTITUTION_ADDR]([c_source] ASC);\n",
    "CREATE INDEX [SOCIAL_INSTITUTION_ADDR_SOCIAL_INSTITUTION_ADDR_TYPE]\n",
    "ON [SOCIAL_INSTITUTION_ADDR]([c_inst_addr_type_code] ASC);"
   ]
  },
  {
   "cell_type": "markdown",
   "id": "12bb8525-0af3-4e48-93f8-27c330e4a390",
   "metadata": {
    "jp-MarkdownHeadingCollapsed": true
   },
   "source": [
    "## SOCIAL_INSTITUTION_ADDR_TYPES"
   ]
  },
  {
   "cell_type": "markdown",
   "id": "60dfd73e-b1fb-490e-9191-c82236e31d0e",
   "metadata": {},
   "source": [
    "### attr"
   ]
  },
  {
   "cell_type": "markdown",
   "id": "e96e1f4f-8961-42ce-bd5d-f4162c01e88a",
   "metadata": {},
   "source": [
    "  [c_inst_name_code] INTEGER NOT NULL,\n",
    "  [c_inst_code] INTEGER NOT NULL,\n",
    "  [c_inst_addr_type_code] INTEGER NOT NULL,\n",
    "  [c_inst_addr_begin_year] INTEGER,\n",
    "  [c_inst_addr_end_year] INTEGER,\n",
    "  [c_inst_addr_id] INTEGER NOT NULL,\n",
    "  [inst_xcoord] FLOAT NOT NULL,\n",
    "  [inst_ycoord] FLOAT NOT NULL,\n",
    "  [c_source] INTEGER,\n",
    "  [c_pages] CHAR(50),\n",
    "  [c_notes] CHAR);\n"
   ]
  },
  {
   "cell_type": "markdown",
   "id": "2286d6d5-b027-4170-b3c2-9a4124cf2466",
   "metadata": {},
   "source": [
    "### index"
   ]
  },
  {
   "cell_type": "markdown",
   "id": "f250a050-1cc4-4c3f-9754-4e3b58c686fc",
   "metadata": {},
   "source": [
    "CREATE INDEX [SOCIAL_INSTITUTION_ADDR_PrimaryKey]\n",
    "ON [SOCIAL_INSTITUTION_ADDR](\n",
    "  [c_inst_name_code] ASC,\n",
    "  [c_inst_code] ASC,\n",
    "  [c_inst_addr_type_code] ASC,\n",
    "  [inst_xcoord] ASC,\n",
    "  [inst_ycoord] ASC,\n",
    "  [c_inst_addr_id] ASC);\n",
    "CREATE INDEX [SOCIAL_INSTITUTION_ADDR_c_inst_addr_id]\n",
    "ON [SOCIAL_INSTITUTION_ADDR]([c_inst_addr_id] ASC);\n",
    "CREATE INDEX [SOCIAL_INSTITUTION_ADDR_c_inst_addr_type_id]\n",
    "ON [SOCIAL_INSTITUTION_ADDR]([c_inst_addr_type_code] ASC);\n",
    "CREATE INDEX [SOCIAL_INSTITUTION_ADDR_c_inst_name_code]\n",
    "ON [SOCIAL_INSTITUTION_ADDR]([c_inst_name_code] ASC);\n",
    "CREATE INDEX [SOCIAL_INSTITUTION_ADDR_c_new_code]\n",
    "ON [SOCIAL_INSTITUTION_ADDR]([c_inst_code] ASC);\n",
    "CREATE INDEX [SOCIAL_INSTITUTION_ADDR_SOCIAL_INSTITUTION_ADDR_ADDR_ID]\n",
    "ON [SOCIAL_INSTITUTION_ADDR]([c_inst_addr_id] ASC);\n",
    "CREATE INDEX [SOCIAL_INSTITUTION_ADDR_SOCIAL_INSTITUTION_ADDR_SOCIAL_INSTITUTION_CODE]\n",
    "ON [SOCIAL_INSTITUTION_ADDR](\n",
    "  [c_inst_name_code] ASC,\n",
    "  [c_inst_code] ASC);\n",
    "CREATE INDEX [SOCIAL_INSTITUTION_ADDR_SOCIAL_INSTITUTION_ADDR_TEXT_CODES]\n",
    "ON [SOCIAL_INSTITUTION_ADDR]([c_source] ASC);\n",
    "CREATE INDEX [SOCIAL_INSTITUTION_ADDR_SOCIAL_INSTITUTION_ADDR_TYPE]\n",
    "ON [SOCIAL_INSTITUTION_ADDR]([c_inst_addr_type_code] ASC);\n",
    "sqlite> .schema SOCIAL_INSTITUTION_ADDR_TYPES\n",
    "CREATE TABLE [SOCIAL_INSTITUTION_ADDR_TYPES](\n",
    "  [c_inst_addr_type_code] INTEGER,\n",
    "  [c_inst_addr_type_desc] CHAR(255),\n",
    "  [c_inst_addr_type_chn] CHAR(255),\n",
    "  [c_notes] CHAR(255));\n",
    "CREATE INDEX [SOCIAL_INSTITUTION_ADDR_TYPES_PrimaryKey]\n",
    "ON [SOCIAL_INSTITUTION_ADDR_TYPES]([c_inst_addr_type_code] ASC);\n",
    "CREATE INDEX [SOCIAL_INSTITUTION_ADDR_TYPES_c_inst_addr_type_id]\n",
    "ON [SOCIAL_INSTITUTION_ADDR_TYPES]([c_inst_addr_type_code] ASC);"
   ]
  },
  {
   "cell_type": "markdown",
   "id": "d2e2acaa-6c51-4c7e-9fe6-76ad4317d802",
   "metadata": {
    "jp-MarkdownHeadingCollapsed": true
   },
   "source": [
    "## SOCIAL_INSTITUTION_ALTNAME_CODES 社会机构别名代码"
   ]
  },
  {
   "cell_type": "markdown",
   "id": "9785834d-e1ae-442e-98b7-6cf17fa2906c",
   "metadata": {},
   "source": [
    "### attr"
   ]
  },
  {
   "cell_type": "markdown",
   "id": "75923e80-689e-47af-ba2c-d940edec906b",
   "metadata": {},
   "source": [
    "  [c_inst_addr_type_code] INTEGER,\n",
    "  [c_inst_addr_type_desc] CHAR(255),\n",
    "  [c_inst_addr_type_chn] CHAR(255),\n",
    "  [c_notes] CHAR(255));\n"
   ]
  },
  {
   "cell_type": "markdown",
   "id": "b178067b-a22f-4e55-a9b7-1b9ee865ecee",
   "metadata": {},
   "source": [
    "### index"
   ]
  },
  {
   "cell_type": "markdown",
   "id": "d845ed12-4b72-4269-9eba-d580bdf0232c",
   "metadata": {},
   "source": [
    "CREATE INDEX [SOCIAL_INSTITUTION_ADDR_TYPES_PrimaryKey]\n",
    "ON [SOCIAL_INSTITUTION_ADDR_TYPES]([c_inst_addr_type_code] ASC);\n",
    "CREATE INDEX [SOCIAL_INSTITUTION_ADDR_TYPES_c_inst_addr_type_id]\n",
    "ON [SOCIAL_INSTITUTION_ADDR_TYPES]([c_inst_addr_type_code] ASC);\n",
    "sqlite> .schema SOCIAL_INSTITUTION_ALTNAME_CODES\n",
    "CREATE TABLE [SOCIAL_INSTITUTION_ALTNAME_CODES](\n",
    "  [c_inst_altname_type] INTEGER,\n",
    "  [c_inst_altname_desc] CHAR(255),\n",
    "  [c_inst_altname_chn] CHAR(255),\n",
    "  [c_notes] CHAR(255));\n",
    "CREATE INDEX [SOCIAL_INSTITUTION_ALTNAME_CODES_PrimaryKey]\n",
    "ON [SOCIAL_INSTITUTION_ALTNAME_CODES]([c_inst_altname_type] ASC);"
   ]
  },
  {
   "cell_type": "markdown",
   "id": "e34053a1-601b-445a-a4bd-b4e7c211c1ce",
   "metadata": {
    "jp-MarkdownHeadingCollapsed": true
   },
   "source": [
    " ## SOCIAL_INSTITUTION_ALTNAME_DATA 社会机构别名"
   ]
  },
  {
   "cell_type": "markdown",
   "id": "35c60646-cd7d-4f57-9502-105d9108d20a",
   "metadata": {},
   "source": [
    "### attr"
   ]
  },
  {
   "cell_type": "markdown",
   "id": "4df92e95-a7ac-4419-85a7-66433997c9ca",
   "metadata": {},
   "source": [
    "  [c_inst_name_code] INTEGER,\n",
    "  [c_inst_code] INTEGER,\n",
    "  [c_inst_altname_type] INTEGER,\n",
    "  [c_inst_altname_hz] CHAR(50),\n",
    "  [c_inst_altname_py] CHAR(50),\n",
    "  [c_source] INTEGER,\n",
    "  [c_pages] CHAR(255),\n",
    "  [c_notes] CHAR);\n"
   ]
  },
  {
   "cell_type": "markdown",
   "id": "f4aced88-d42b-4700-907b-566f6a122b8d",
   "metadata": {},
   "source": [
    "### index"
   ]
  },
  {
   "cell_type": "markdown",
   "id": "7c47cecf-abbb-48df-bc83-52c26f653d2a",
   "metadata": {},
   "source": [
    "CREATE INDEX [SOCIAL_INSTITUTION_ALTNAME_DATA_PrimaryKey]\n",
    "ON [SOCIAL_INSTITUTION_ALTNAME_DATA](\n",
    "  [c_inst_name_code] ASC,\n",
    "  [c_inst_code] ASC,\n",
    "  [c_inst_altname_type] ASC,\n",
    "  [c_inst_altname_hz] ASC);\n",
    "CREATE INDEX [SOCIAL_INSTITUTION_ALTNAME_DATA_c_inst_altname_type_id]\n",
    "ON [SOCIAL_INSTITUTION_ALTNAME_DATA]([c_inst_altname_type] ASC);\n",
    "CREATE INDEX [SOCIAL_INSTITUTION_ALTNAME_DATA_c_inst_code]\n",
    "ON [SOCIAL_INSTITUTION_ALTNAME_DATA]([c_inst_code] ASC);\n",
    "CREATE INDEX [SOCIAL_INSTITUTION_ALTNAME_DATA_c_inst_name_code]\n",
    "ON [SOCIAL_INSTITUTION_ALTNAME_DATA]([c_inst_name_code] ASC);"
   ]
  },
  {
   "cell_type": "markdown",
   "id": "7ff48a3a-dfb3-4bf4-bdbd-fdbdc80693be",
   "metadata": {
    "jp-MarkdownHeadingCollapsed": true
   },
   "source": [
    "## SOCIAL_INSTITUTION_CODES"
   ]
  },
  {
   "cell_type": "markdown",
   "id": "0b599b05-74aa-4906-8faa-660876762c6b",
   "metadata": {},
   "source": [
    "### attr"
   ]
  },
  {
   "cell_type": "markdown",
   "id": "912f4464-301a-44f6-825e-bb1a55688ac4",
   "metadata": {},
   "source": [
    "  [c_inst_name_code] INTEGER NOT NULL,\n",
    "  [c_inst_code] INTEGER NOT NULL,\n",
    "  [c_inst_type_code] INTEGER,\n",
    "  [c_inst_begin_year] INTEGER,\n",
    "  [c_by_nianhao_code] INTEGER,\n",
    "  [c_by_nianhao_year] INTEGER,\n",
    "  [c_by_year_range] INTEGER,\n",
    "  [c_inst_begin_dy] INTEGER,\n",
    "  [c_inst_floruit_dy] INTEGER,\n",
    "  [c_inst_first_known_year] INTEGER,\n",
    "  [c_inst_end_year] INTEGER,\n",
    "  [c_ey_nianhao_code] INTEGER,\n",
    "  [c_ey_nianhao_year] INTEGER,\n",
    "  [c_ey_year_range] INTEGER,\n",
    "  [c_inst_end_dy] INTEGER,\n",
    "  [c_inst_last_known_year] INTEGER,\n",
    "  [c_source] INTEGER,\n",
    "  [c_pages] CHAR(50),\n",
    "  [c_notes] CHAR);\n"
   ]
  },
  {
   "cell_type": "markdown",
   "id": "63d9b62d-febd-4aa2-b136-6d660fa77d7e",
   "metadata": {},
   "source": [
    "### index"
   ]
  },
  {
   "cell_type": "markdown",
   "id": "76bb533d-b16e-40ce-a4a1-d412081a045e",
   "metadata": {},
   "source": [
    "CREATE INDEX [SOCIAL_INSTITUTION_CODES_PrimaryKey]\n",
    "ON [SOCIAL_INSTITUTION_CODES](\n",
    "  [c_inst_name_code] ASC,\n",
    "  [c_inst_code] ASC);\n",
    "CREATE INDEX [SOCIAL_INSTITUTION_CODES_c_ey_nianhao_code]\n",
    "ON [SOCIAL_INSTITUTION_CODES]([c_ey_nianhao_code] ASC);\n",
    "CREATE INDEX [SOCIAL_INSTITUTION_CODES_c_inst_name_code]\n",
    "ON [SOCIAL_INSTITUTION_CODES]([c_inst_name_code] ASC);\n",
    "CREATE INDEX [SOCIAL_INSTITUTION_CODES_c_institution_type_code]\n",
    "ON [SOCIAL_INSTITUTION_CODES]([c_inst_type_code] ASC);\n",
    "CREATE INDEX [SOCIAL_INSTITUTION_CODES_c_new_code]\n",
    "ON [SOCIAL_INSTITUTION_CODES]([c_inst_code] ASC);\n",
    "CREATE INDEX [SOCIAL_INSTITUTION_CODES_c_nianhao_code]\n",
    "ON [SOCIAL_INSTITUTION_CODES]([c_by_nianhao_code] ASC);\n",
    "CREATE INDEX [SOCIAL_INSTITUTION_CODES_SOCIAL_INSTITUTION_CODES_DYNASTY_BEGIN]\n",
    "ON [SOCIAL_INSTITUTION_CODES]([c_inst_begin_dy] ASC);\n",
    "CREATE INDEX [SOCIAL_INSTITUTION_CODES_SOCIAL_INSTITUTION_CODES_DYNASTY_END]\n",
    "ON [SOCIAL_INSTITUTION_CODES]([c_inst_floruit_dy] ASC);\n",
    "CREATE INDEX [SOCIAL_INSTITUTION_CODES_SOCIAL_INSTITUTION_CODES_NIAN_HAO_BY]\n",
    "ON [SOCIAL_INSTITUTION_CODES]([c_by_nianhao_code] ASC);\n",
    "CREATE INDEX [SOCIAL_INSTITUTION_CODES_SOCIAL_INSTITUTION_CODES_NIAN_HAO_EY]\n",
    "ON [SOCIAL_INSTITUTION_CODES]([c_ey_nianhao_code] ASC);\n",
    "CREATE INDEX [SOCIAL_INSTITUTION_CODES_SOCIAL_INSTITUTION_CODES_SOCIAL_INSTITUTION_NAME_CODE]\n",
    "ON [SOCIAL_INSTITUTION_CODES]([c_inst_name_code] ASC);\n",
    "CREATE INDEX [SOCIAL_INSTITUTION_CODES_SOCIAL_INSTITUTION_CODES_SOCIAL_INSTITUTION_TYPE_CODE]\n",
    "ON [SOCIAL_INSTITUTION_CODES]([c_inst_type_code] ASC);\n",
    "CREATE INDEX [SOCIAL_INSTITUTION_CODES_SOCIAL_INSTITUTION_CODES_SOURCE_TEXT_ID]\n",
    "ON [SOCIAL_INSTITUTION_CODES]([c_source] ASC);\n",
    "CREATE INDEX [SOCIAL_INSTITUTION_CODES_SOCIAL_INSTITUTION_CODES_YEAR_RANGE_CODE_BY]\n",
    "ON [SOCIAL_INSTITUTION_CODES]([c_by_year_range] ASC);\n",
    "CREATE INDEX [SOCIAL_INSTITUTION_CODES_SOCIAL_INSTITUTION_CODES_YEAR_RANGE_CODE_EY]\n",
    "ON [SOCIAL_INSTITUTION_CODES]([c_ey_year_range] ASC);"
   ]
  },
  {
   "cell_type": "markdown",
   "id": "902dc28e-cc31-4767-b603-669587ba0b63",
   "metadata": {
    "jp-MarkdownHeadingCollapsed": true
   },
   "source": [
    "## SOCIAL_INSTITUTION_CODES_CONVERSION"
   ]
  },
  {
   "cell_type": "markdown",
   "id": "321fda56-4888-46b0-a66e-9200f8775ea3",
   "metadata": {},
   "source": [
    "### attr"
   ]
  },
  {
   "cell_type": "markdown",
   "id": "2165ebc6-8fe3-4a89-8ed6-fc21f2cea611",
   "metadata": {},
   "source": [
    "  [c_inst_name_code] INTEGER,\n",
    "  [c_inst_code] INTEGER,\n",
    "  [c_inst_code_new] INTEGER,\n",
    "  [c_new_new_code] INTEGER);\n"
   ]
  },
  {
   "cell_type": "markdown",
   "id": "c8c6a1a6-93a2-4c01-b13d-8b97f3ffdc29",
   "metadata": {},
   "source": [
    "### index"
   ]
  },
  {
   "cell_type": "markdown",
   "id": "8032a2d5-4e7f-48f7-aa92-7067d07c2991",
   "metadata": {},
   "source": [
    "CREATE INDEX [SOCIAL_INSTITUTION_CODES_CONVERSION_PrimaryKey]\n",
    "ON [SOCIAL_INSTITUTION_CODES_CONVERSION](\n",
    "  [c_inst_name_code] ASC,\n",
    "  [c_inst_code] ASC);\n",
    "CREATE INDEX [SOCIAL_INSTITUTION_CODES_CONVERSION_c_inst_name_code]\n",
    "ON [SOCIAL_INSTITUTION_CODES_CONVERSION]([c_inst_name_code] ASC);\n",
    "CREATE INDEX [SOCIAL_INSTITUTION_CODES_CONVERSION_c_institution_code]\n",
    "ON [SOCIAL_INSTITUTION_CODES_CONVERSION]([c_inst_code] ASC);\n",
    "CREATE INDEX [SOCIAL_INSTITUTION_CODES_CONVERSION_c_new_new_code]\n",
    "ON [SOCIAL_INSTITUTION_CODES_CONVERSION]([c_new_new_code] ASC);"
   ]
  },
  {
   "cell_type": "markdown",
   "id": "6525a79b-67d7-4703-897d-0099c3348f62",
   "metadata": {
    "jp-MarkdownHeadingCollapsed": true
   },
   "source": [
    "## SOCIAL_INSTITUTION_NAME_CODES"
   ]
  },
  {
   "cell_type": "markdown",
   "id": "07b405be-df60-40c8-9bb6-26cba58055d9",
   "metadata": {},
   "source": [
    "### attr"
   ]
  },
  {
   "cell_type": "markdown",
   "id": "91ea8d5d-ddab-4878-b3e4-4b85093c792f",
   "metadata": {},
   "source": [
    "  [c_inst_name_code] INTEGER,\n",
    "  [c_inst_name_hz] CHAR(50),\n",
    "  [c_inst_name_py] CHAR(50));\n"
   ]
  },
  {
   "cell_type": "markdown",
   "id": "6f9d207f-989b-4f13-a62b-3ee9582d3f3c",
   "metadata": {},
   "source": [
    "### index"
   ]
  },
  {
   "cell_type": "markdown",
   "id": "e8cfddb1-c243-456f-9b82-0240e8959e58",
   "metadata": {},
   "source": [
    "CREATE INDEX [SOCIAL_INSTITUTION_NAME_CODES_PrimaryKey]\n",
    "ON [SOCIAL_INSTITUTION_NAME_CODES]([c_inst_name_code] ASC);\n",
    "CREATE INDEX [SOCIAL_INSTITUTION_NAME_CODES_c_inst_name_code]\n",
    "ON [SOCIAL_INSTITUTION_NAME_CODES]([c_inst_name_code] ASC);"
   ]
  },
  {
   "cell_type": "markdown",
   "id": "e65c2480-1728-4278-86d1-4445248e81cb",
   "metadata": {
    "jp-MarkdownHeadingCollapsed": true
   },
   "source": [
    "## SOCIAL_INSTITUTION_TYPES"
   ]
  },
  {
   "cell_type": "markdown",
   "id": "d92527d7-8c66-4fa9-9609-b9fc65c19185",
   "metadata": {},
   "source": [
    "### attr"
   ]
  },
  {
   "cell_type": "markdown",
   "id": "988834fa-3e6e-4601-b1fb-3e0da307fab9",
   "metadata": {},
   "source": [
    "  [c_inst_type_code] INTEGER,\n",
    "  [c_inst_type_py] CHAR(50),\n",
    "  [c_inst_type_hz] CHAR(50));\n"
   ]
  },
  {
   "cell_type": "markdown",
   "id": "11afe1db-610b-4b03-9cac-da864ec71d25",
   "metadata": {},
   "source": [
    "### index"
   ]
  },
  {
   "cell_type": "markdown",
   "id": "19af6a94-1f7b-4cc9-8218-3342f0d1d2e7",
   "metadata": {},
   "source": [
    "CREATE INDEX [SOCIAL_INSTITUTION_TYPES_PrimaryKey]\n",
    "ON [SOCIAL_INSTITUTION_TYPES]([c_inst_type_code] ASC);\n",
    "CREATE INDEX [SOCIAL_INSTITUTION_TYPES_c_institution_type_code]\n",
    "ON [SOCIAL_INSTITUTION_TYPES]([c_inst_type_code] ASC);"
   ]
  },
  {
   "cell_type": "markdown",
   "id": "0ea76c02-3a69-40f5-a60a-0526f1390cf4",
   "metadata": {
    "jp-MarkdownHeadingCollapsed": true
   },
   "source": [
    "## STATUS_CODES 社会身份代码"
   ]
  },
  {
   "cell_type": "markdown",
   "id": "3925fbef-9a81-46fd-9d79-346fff0e1cfd",
   "metadata": {},
   "source": [
    "### attr"
   ]
  },
  {
   "cell_type": "markdown",
   "id": "621a9801-78bd-41b2-b3b3-e4d95dc3875d",
   "metadata": {},
   "source": [
    "  [c_status_code] INTEGER,\n",
    "  [c_status_desc] CHAR(255),\n",
    "  [c_status_desc_chn] CHAR(255));\n"
   ]
  },
  {
   "cell_type": "markdown",
   "id": "a722c9b8-2b80-4d2d-8d3d-77d6d57a4610",
   "metadata": {},
   "source": [
    "### index"
   ]
  },
  {
   "cell_type": "markdown",
   "id": "e048d3c9-6545-40c6-9f0d-7d36f6075a56",
   "metadata": {},
   "source": [
    "CREATE INDEX [STATUS_CODES_PrimaryKey] ON [STATUS_CODES]([c_status_code] ASC);"
   ]
  },
  {
   "cell_type": "markdown",
   "id": "c9f81f87-a5b9-4948-97ee-7a33fc1a7034",
   "metadata": {
    "jp-MarkdownHeadingCollapsed": true
   },
   "source": [
    "## STATUS_CODE_TYPE_REL"
   ]
  },
  {
   "cell_type": "markdown",
   "id": "cba3b42d-5f67-49fa-8bcc-82517bffed64",
   "metadata": {},
   "source": [
    "### attr"
   ]
  },
  {
   "cell_type": "markdown",
   "id": "a2344ee5-e092-446c-a620-8bc0a65c085b",
   "metadata": {},
   "source": [
    "  [c_status_code] INTEGER,\n",
    "  [c_status_type_code] CHAR(12));\n"
   ]
  },
  {
   "cell_type": "markdown",
   "id": "7bbfb0e1-efb7-4e18-aa82-e7651c652f29",
   "metadata": {},
   "source": [
    "### index"
   ]
  },
  {
   "cell_type": "markdown",
   "id": "0dbb9412-1f1d-4224-802c-08f0b2791c46",
   "metadata": {},
   "source": [
    "CREATE INDEX [STATUS_CODE_TYPE_REL_PrimaryKey]\n",
    "ON [STATUS_CODE_TYPE_REL](\n",
    "  [c_status_code] ASC,\n",
    "  [c_status_type_code] ASC);\n",
    "CREATE INDEX [STATUS_CODE_TYPE_REL_c_status_code]\n",
    "ON [STATUS_CODE_TYPE_REL]([c_status_code] ASC);\n",
    "CREATE INDEX [STATUS_CODE_TYPE_REL_c_status_type_code]\n",
    "ON [STATUS_CODE_TYPE_REL]([c_status_type_code] ASC);\n",
    "CREATE INDEX [STATUS_CODE_TYPE_REL_STATUS_CODE_TYPE_REL_STATUS_CODE]\n",
    "ON [STATUS_CODE_TYPE_REL]([c_status_code] ASC);\n",
    "CREATE INDEX [STATUS_CODE_TYPE_REL_STATUS_CODE_TYPE_REL_STATUS_TYPE]\n",
    "ON [STATUS_CODE_TYPE_REL]([c_status_type_code] ASC);"
   ]
  },
  {
   "cell_type": "markdown",
   "id": "09f03542-00b6-4429-8ba8-fa05a5913afb",
   "metadata": {
    "jp-MarkdownHeadingCollapsed": true
   },
   "source": [
    "## STATUS_DATA 社会身份信息"
   ]
  },
  {
   "cell_type": "markdown",
   "id": "d492a67d-2624-48a7-95c0-49d108cbbe6d",
   "metadata": {},
   "source": [
    "### attr"
   ]
  },
  {
   "cell_type": "markdown",
   "id": "018932fe-b503-4ad7-a110-9d673730a8a5",
   "metadata": {},
   "source": [
    "  [c_personid] INTEGER NOT NULL,\n",
    "  [c_sequence] INTEGER NOT NULL,\n",
    "  [c_status_code] INTEGER NOT NULL,\n",
    "  [c_firstyear] INTEGER,\n",
    "  [c_fy_nh_code] INTEGER,\n",
    "  [c_fy_nh_year] INTEGER,\n",
    "  [c_fy_range] INTEGER,\n",
    "  [c_lastyear] INTEGER,\n",
    "  [c_ly_nh_code] INTEGER,\n",
    "  [c_ly_nh_year] INTEGER,\n",
    "  [c_ly_range] INTEGER,\n",
    "  [c_supplement] CHAR(255),\n",
    "  [c_source] INTEGER,\n",
    "  [c_pages] CHAR(255),\n",
    "  [c_notes] CHAR,\n",
    "  [c_created_by] CHAR(255),\n",
    "  [c_created_date] CHAR(255),\n",
    "  [c_modified_by] CHAR(255),\n",
    "  [c_modified_date] CHAR(255));\n",
    "CREATE INDEX [STATUS_DATA_PrimaryKey]\n",
    "ON [STATUS_DATA](\n",
    "  [c_personid] ASC,\n",
    "  [c_sequence] ASC,\n",
    "  [c_status_code] ASC);\n"
   ]
  },
  {
   "cell_type": "markdown",
   "id": "8baa4de8-e43f-44c3-b923-0d5035d13789",
   "metadata": {},
   "source": [
    "### attr"
   ]
  },
  {
   "cell_type": "markdown",
   "id": "ae987440-2fcc-4798-8847-a9c2c323aecf",
   "metadata": {},
   "source": [
    "CREATE INDEX [STATUS_DATA_c_fy_nh_code] ON [STATUS_DATA]([c_fy_nh_code] ASC);\n",
    "CREATE INDEX [STATUS_DATA_c_ly_nh_code] ON [STATUS_DATA]([c_ly_nh_code] ASC);\n",
    "CREATE INDEX [STATUS_DATA_c_personid] ON [STATUS_DATA]([c_personid] ASC);\n",
    "CREATE INDEX [STATUS_DATA_c_status_code] ON [STATUS_DATA]([c_status_code] ASC);\n",
    "CREATE INDEX [STATUS_DATA_STATUS_DATA_nian_hao_fy]\n",
    "ON [STATUS_DATA]([c_fy_nh_code] ASC);\n",
    "CREATE INDEX [STATUS_DATA_STATUS_DATA_nian_hao_ly]\n",
    "ON [STATUS_DATA]([c_ly_nh_code] ASC);\n",
    "CREATE INDEX [STATUS_DATA_STATUS_DATA_PERSON_ID]\n",
    "ON [STATUS_DATA]([c_personid] ASC);\n",
    "CREATE INDEX [STATUS_DATA_STATUS_DATA_SOURCE_TEXT_ID]\n",
    "ON [STATUS_DATA]([c_source] ASC);\n",
    "CREATE INDEX [STATUS_DATA_STATUS_DATA_STATUS_CODES]\n",
    "ON [STATUS_DATA]([c_status_code] ASC);\n",
    "CREATE INDEX [STATUS_DATA_STATUS_DATA_year_range_code_fy]\n",
    "ON [STATUS_DATA]([c_fy_range] ASC);\n",
    "CREATE INDEX [STATUS_DATA_STATUS_DATA_year_range_code_ly]\n",
    "ON [STATUS_DATA]([c_ly_range] ASC);"
   ]
  },
  {
   "cell_type": "markdown",
   "id": "cd54dd94-8783-4b86-a6e5-b3e3389d2d50",
   "metadata": {
    "jp-MarkdownHeadingCollapsed": true
   },
   "source": [
    "## STATUS_TYPES 社会身份类型"
   ]
  },
  {
   "cell_type": "markdown",
   "id": "789bb4ac-3ff0-480a-b171-41a503b58d22",
   "metadata": {},
   "source": [
    "### attr"
   ]
  },
  {
   "cell_type": "markdown",
   "id": "250ca8e2-99eb-4f70-9564-381cfee6c768",
   "metadata": {},
   "source": [
    "  [c_status_type_code] CHAR(12) NOT NULL,\n",
    "  [c_status_type_desc] CHAR(255),\n",
    "  [c_status_type_chn] CHAR(255),\n",
    "  [c_status_type_parent_code] CHAR(255));\n"
   ]
  },
  {
   "cell_type": "markdown",
   "id": "f2421fee-cd55-4ef6-a60c-6efa1b763061",
   "metadata": {},
   "source": [
    "### index"
   ]
  },
  {
   "cell_type": "markdown",
   "id": "2704f028-bde4-4c55-9f51-4ccae0d3a009",
   "metadata": {},
   "source": [
    "CREATE INDEX [STATUS_TYPES_PrimaryKey]\n",
    "ON [STATUS_TYPES]([c_status_type_code] ASC);\n",
    "CREATE INDEX [STATUS_TYPES_c_status_type_code]\n",
    "ON [STATUS_TYPES]([c_status_type_code] ASC);\n",
    "CREATE INDEX [STATUS_TYPES_c_status_type_parent_code]\n",
    "ON [STATUS_TYPES]([c_status_type_parent_code] ASC);"
   ]
  },
  {
   "cell_type": "markdown",
   "id": "977d63d3-ef0a-43ea-9655-1217c9a3835a",
   "metadata": {
    "jp-MarkdownHeadingCollapsed": true
   },
   "source": [
    "## TEXT_BIBLCAT_CODES"
   ]
  },
  {
   "cell_type": "markdown",
   "id": "fe4032f2-b822-4535-b1e7-b697394ef847",
   "metadata": {},
   "source": [
    "### attr"
   ]
  },
  {
   "cell_type": "markdown",
   "id": "a6fd48ae-8bf9-4916-86db-c664f7546ff4",
   "metadata": {},
   "source": [
    "  [c_text_cat_code] INTEGER NOT NULL,\n",
    "  [c_text_cat_desc] CHAR(255),\n",
    "  [c_text_cat_desc_chn] CHAR(255),\n",
    "  [c_text_cat_pinyin] CHAR(255),\n",
    "  [c_text_cat_parent_id] CHAR(255),\n",
    "  [c_text_cat_level] CHAR(255),\n",
    "  [c_text_cat_sortorder] INTEGER);\n"
   ]
  },
  {
   "cell_type": "markdown",
   "id": "7edbb236-71c6-4df3-af9e-0d5c2d70b9f9",
   "metadata": {},
   "source": [
    "### index"
   ]
  },
  {
   "cell_type": "markdown",
   "id": "33a467bb-03e7-4889-bbed-8a275f4b99a4",
   "metadata": {},
   "source": [
    "CREATE INDEX [TEXT_BIBLCAT_CODES_PrimaryKey]\n",
    "ON [TEXT_BIBLCAT_CODES]([c_text_cat_code] ASC);\n",
    "CREATE INDEX [TEXT_BIBLCAT_CODES_c_genre_code]\n",
    "ON [TEXT_BIBLCAT_CODES]([c_text_cat_code] ASC);\n",
    "CREATE INDEX [TEXT_BIBLCAT_CODES_c_text_cat_parent_id]\n",
    "ON [TEXT_BIBLCAT_CODES]([c_text_cat_parent_id] ASC);"
   ]
  },
  {
   "cell_type": "markdown",
   "id": "f9091e4c-458a-44af-b35e-bef116561607",
   "metadata": {
    "jp-MarkdownHeadingCollapsed": true
   },
   "source": [
    "## TEXT_BIBLCAT_CODE_TYPE_REL"
   ]
  },
  {
   "cell_type": "markdown",
   "id": "be67bcbc-ec33-49a2-9f1f-5aaa08eb6150",
   "metadata": {},
   "source": [
    "### attr"
   ]
  },
  {
   "cell_type": "markdown",
   "id": "b143f7a0-3314-4f64-8df5-ad4d0c956cf9",
   "metadata": {},
   "source": [
    "  [c_text_cat_code] INTEGER,\n",
    "  [c_text_cat_type_id] CHAR(255));\n"
   ]
  },
  {
   "cell_type": "markdown",
   "id": "927cd4d4-2bcf-4269-8346-18fb09cbbb0b",
   "metadata": {},
   "source": [
    "### index"
   ]
  },
  {
   "cell_type": "markdown",
   "id": "f26b1379-c664-4ea2-93e7-42fa3477b2d6",
   "metadata": {},
   "source": [
    "CREATE INDEX [TEXT_BIBLCAT_CODE_TYPE_REL_PrimaryKey]\n",
    "ON [TEXT_BIBLCAT_CODE_TYPE_REL](\n",
    "  [c_text_cat_code] ASC,\n",
    "  [c_text_cat_type_id] ASC);\n",
    "CREATE INDEX [TEXT_BIBLCAT_CODE_TYPE_REL_code_id]\n",
    "ON [TEXT_BIBLCAT_CODE_TYPE_REL]([c_text_cat_code] ASC);\n",
    "CREATE INDEX [TEXT_BIBLCAT_CODE_TYPE_REL_TEXT_BIBLCAT_CODE_TYPE_REL_TEXT_CAT_CODE]\n",
    "ON [TEXT_BIBLCAT_CODE_TYPE_REL]([c_text_cat_code] ASC);\n",
    "CREATE INDEX [TEXT_BIBLCAT_CODE_TYPE_REL_TEXT_BIBLCAT_CODE_TYPE_REL_TEXT_CAT_TYPE]\n",
    "ON [TEXT_BIBLCAT_CODE_TYPE_REL]([c_text_cat_type_id] ASC);\n",
    "CREATE INDEX [TEXT_BIBLCAT_CODE_TYPE_REL_type_id]\n",
    "ON [TEXT_BIBLCAT_CODE_TYPE_REL]([c_text_cat_type_id] ASC);"
   ]
  },
  {
   "cell_type": "markdown",
   "id": "a01af2b8-422f-4913-846e-0c9daab1064d",
   "metadata": {
    "jp-MarkdownHeadingCollapsed": true
   },
   "source": [
    "## TEXT_BIBLCAT_TYPES"
   ]
  },
  {
   "cell_type": "markdown",
   "id": "d5facfe0-07d0-40b3-96c0-c81eb5fc1c2c",
   "metadata": {},
   "source": [
    "### attr"
   ]
  },
  {
   "cell_type": "markdown",
   "id": "f7f6428b-81e0-4601-b45a-dabb8aaad09b",
   "metadata": {},
   "source": [
    "  [c_text_cat_type_id] CHAR(255),\n",
    "  [c_text_cat_type_desc] CHAR(255),\n",
    "  [c_text_cat_type_desc_chn] CHAR(255),\n",
    "  [c_text_cat_type_parent_id] CHAR(255),\n",
    "  [c_text_cat_type_level] INTEGER,\n",
    "  [c_text_cat_type_sortorder] INTEGER);\n"
   ]
  },
  {
   "cell_type": "markdown",
   "id": "eb55c384-b113-41e2-ba05-c79c3e5aed6d",
   "metadata": {},
   "source": [
    "### index"
   ]
  },
  {
   "cell_type": "markdown",
   "id": "8835b492-6ed3-4c42-a0c5-42773adb6da9",
   "metadata": {},
   "source": [
    "CREATE INDEX [TEXT_BIBLCAT_TYPES_PrimaryKey]\n",
    "ON [TEXT_BIBLCAT_TYPES]([c_text_cat_type_id] ASC);\n",
    "CREATE INDEX [TEXT_BIBLCAT_TYPES_type_id]\n",
    "ON [TEXT_BIBLCAT_TYPES]([c_text_cat_type_id] ASC);\n",
    "CREATE INDEX [TEXT_BIBLCAT_TYPES_type_parent_id]\n",
    "ON [TEXT_BIBLCAT_TYPES]([c_text_cat_type_parent_id] ASC);"
   ]
  },
  {
   "cell_type": "markdown",
   "id": "6dea08fc-b3d4-4143-a5ca-41aa3ce1b260",
   "metadata": {
    "jp-MarkdownHeadingCollapsed": true
   },
   "source": [
    "## TEXT_CODES"
   ]
  },
  {
   "cell_type": "markdown",
   "id": "09d52f1c-c81c-44e4-860f-ca8e1daee342",
   "metadata": {},
   "source": [
    "### attr"
   ]
  },
  {
   "cell_type": "markdown",
   "id": "010230c7-3aa9-44aa-8de3-2fc13debb198",
   "metadata": {},
   "source": [
    "  [c_textid] INTEGER NOT NULL,\n",
    "  [c_title_chn] CHAR(255),\n",
    "  [c_suffix_version] CHAR(255),\n",
    "  [c_title] CHAR(255),\n",
    "  [c_title_trans] CHAR(255),\n",
    "  [c_text_type_id] CHAR(255),\n",
    "  [c_text_year] INTEGER,\n",
    "  [c_text_nh_code] INTEGER,\n",
    "  [c_text_nh_year] INTEGER,\n",
    "  [c_text_range_code] INTEGER,\n",
    "  [c_period] CHAR(255),\n",
    "  [c_bibl_cat_code] INTEGER,\n",
    "  [c_extant] INTEGER,\n",
    "  [c_text_country] INTEGER,\n",
    "  [c_text_dy] INTEGER,\n",
    "  [c_pub_country] INTEGER,\n",
    "  [c_pub_dy] INTEGER,\n",
    "  [c_pub_year] CHAR(50),\n",
    "  [c_pub_nh_code] INTEGER,\n",
    "  [c_pub_nh_year] INTEGER,\n",
    "  [c_pub_range_code] INTEGER,\n",
    "  [c_pub_loc] CHAR(255),\n",
    "  [c_publisher] CHAR(255),\n",
    "  [c_pub_notes] CHAR(255),\n",
    "  [c_source] INTEGER,\n",
    "  [c_pages] CHAR(255),\n",
    "  [c_url_api] CHAR(255),\n",
    "  [c_url_api_coda] CHAR(255),\n",
    "  [c_url_homepage] CHAR(255),\n",
    "  [c_notes] CHAR,\n",
    "  [c_number] CHAR(255),\n",
    "  [c_counter] CHAR(255),\n",
    "  [c_title_alt_chn] CHAR(255),\n",
    "  [c_created_by] CHAR(255),\n",
    "  [c_created_date] CHAR(255),\n",
    "  [c_modified_by] CHAR(255),\n",
    "  [c_modified_date] CHAR(255));\n"
   ]
  },
  {
   "cell_type": "markdown",
   "id": "6a8d2d24-61f8-428e-af95-fff4f517085a",
   "metadata": {},
   "source": [
    "### index"
   ]
  },
  {
   "cell_type": "markdown",
   "id": "1429cf58-736b-4c9d-9cef-0c34a6091e27",
   "metadata": {},
   "source": [
    "CREATE INDEX [TEXT_CODES_PrimaryKey] ON [TEXT_CODES]([c_textid] ASC);\n",
    "CREATE INDEX [TEXT_CODES_c_genre_code] ON [TEXT_CODES]([c_bibl_cat_code] ASC);\n",
    "CREATE INDEX [TEXT_CODES_c_text_nh_code] ON [TEXT_CODES]([c_text_nh_code] ASC);\n",
    "CREATE INDEX [TEXT_CODES_c_text_range_code]\n",
    "ON [TEXT_CODES]([c_text_range_code] ASC);\n",
    "CREATE INDEX [TEXT_CODES_c_text_type_code] ON [TEXT_CODES]([c_text_type_id] ASC);\n",
    "CREATE INDEX [TEXT_CODES_c_textid] ON [TEXT_CODES]([c_textid] ASC);\n",
    "CREATE INDEX [TEXT_CODES_TEXT_CODES_COUNTRY_CODE_PUB]\n",
    "ON [TEXT_CODES]([c_pub_country] ASC);\n",
    "CREATE INDEX [TEXT_CODES_TEXT_CODES_COUNTRY_CODE_TEXT]\n",
    "ON [TEXT_CODES]([c_text_country] ASC);\n",
    "CREATE INDEX [TEXT_CODES_TEXT_CODES_DYNASTY_PUB] ON [TEXT_CODES]([c_pub_dy] ASC);\n",
    "CREATE INDEX [TEXT_CODES_TEXT_CODES_DYNASTY_TEXT]\n",
    "ON [TEXT_CODES]([c_text_dy] ASC);\n",
    "CREATE INDEX [TEXT_CODES_TEXT_CODES_EXTANT_CODE] ON [TEXT_CODES]([c_extant] ASC);\n",
    "CREATE INDEX [TEXT_CODES_TEXT_CODES_NIAN_HAO_PUB]\n",
    "ON [TEXT_CODES]([c_pub_nh_code] ASC);\n",
    "CREATE INDEX [TEXT_CODES_TEXT_CODES_NIAN_HAO_TEXT]\n",
    "ON [TEXT_CODES]([c_text_nh_code] ASC);\n",
    "CREATE INDEX [TEXT_CODES_TEXT_CODES_SOURCE_TEXT_ID]\n",
    "ON [TEXT_CODES]([c_source] ASC);\n",
    "CREATE INDEX [TEXT_CODES_TEXT_CODES_TEXT_BIBLCAT_CODE]\n",
    "ON [TEXT_CODES]([c_bibl_cat_code] ASC);\n",
    "CREATE INDEX [TEXT_CODES_TEXT_CODES_YEAR_RANGE_CODE_PUB]\n",
    "ON [TEXT_CODES]([c_pub_range_code] ASC);\n",
    "CREATE INDEX [TEXT_CODES_TEXT_CODES_YEAR_RANGE_CODE_TEXT]\n",
    "ON [TEXT_CODES]([c_text_range_code] ASC);\n",
    "CREATE INDEX [TEXT_CODES_TEXT_CODESc_source] ON [TEXT_CODES]([c_source] ASC);"
   ]
  },
  {
   "cell_type": "markdown",
   "id": "40daf37e-a9cd-44df-a25d-4f26a32c8a6f",
   "metadata": {
    "jp-MarkdownHeadingCollapsed": true
   },
   "source": [
    "## TEXT_INSTANCE_DATA 文本实例信息"
   ]
  },
  {
   "cell_type": "markdown",
   "id": "5ed24672-e568-4b09-a54a-eb7da898d867",
   "metadata": {},
   "source": [
    "### attr"
   ]
  },
  {
   "cell_type": "markdown",
   "id": "0f3a0d65-5fb8-436a-8352-2d63e74a3d40",
   "metadata": {},
   "source": [
    "  [c_textid] INTEGER NOT NULL,\n",
    "  [c_text_edition_id] INTEGER NOT NULL,\n",
    "  [c_text_instance_id] INTEGER NOT NULL,\n",
    "  [c_instance_title_chn] CHAR(255),\n",
    "  [c_instance_title] CHAR(255),\n",
    "  [c_instance_title_trans] CHAR(255),\n",
    "  [c_part_of_instance] INTEGER,\n",
    "  [c_part_of_instance_notes] CHAR(255),\n",
    "  [c_pub_country] INTEGER,\n",
    "  [c_pub_dy] INTEGER,\n",
    "  [c_pub_year] CHAR(255),\n",
    "  [c_pub_nh_code] INTEGER,\n",
    "  [c_pub_nh_year] INTEGER,\n",
    "  [c_pub_range_code] INTEGER,\n",
    "  [c_pub_loc] CHAR(255),\n",
    "  [c_publisher] CHAR(255),\n",
    "  [c_print] CHAR(255),\n",
    "  [c_pub_notes] CHAR(255),\n",
    "  [c_source] INTEGER,\n",
    "  [c_pages] CHAR(255),\n",
    "  [c_extant] INTEGER,\n",
    "  [c_url_api] CHAR(255),\n",
    "  [c_url_homepage] CHAR(255),\n",
    "  [c_notes] CHAR,\n",
    "  [c_number] CHAR(255),\n",
    "  [c_counter] CHAR(255),\n",
    "  [c_title_alt_chn] CHAR(255),\n",
    "  [c_created_by] CHAR(255),\n",
    "  [c_created_date] CHAR(255),\n",
    "  [c_modified_by] CHAR(255),\n",
    "  [c_modified_date] CHAR(255));\n",
    "CREATE INDEX [TEXT_INSTANCE_DATA_PrimaryKey]\n",
    "ON [TEXT_INSTANCE_DATA](\n",
    "  [c_textid] ASC,\n",
    "  [c_text_edition_id] ASC,\n",
    "  [c_text_instance_id] ASC);\n"
   ]
  },
  {
   "cell_type": "markdown",
   "id": "0978e646-ec1d-4fb1-aac4-c48e671f0ac8",
   "metadata": {},
   "source": [
    "### index"
   ]
  },
  {
   "cell_type": "markdown",
   "id": "f4e1b2e0-8821-4213-9fe5-fcfff9b341e6",
   "metadata": {},
   "source": [
    "CREATE INDEX [TEXT_INSTANCE_DATA_c_pub_nh_code]\n",
    "ON [TEXT_INSTANCE_DATA]([c_pub_nh_code] ASC);\n",
    "CREATE INDEX [TEXT_INSTANCE_DATA_c_pub_range_code]\n",
    "ON [TEXT_INSTANCE_DATA]([c_pub_range_code] ASC);\n",
    "CREATE INDEX [TEXT_INSTANCE_DATA_c_text_edition_id]\n",
    "ON [TEXT_INSTANCE_DATA]([c_text_edition_id] ASC);\n",
    "CREATE INDEX [TEXT_INSTANCE_DATA_c_text_instance_id]\n",
    "ON [TEXT_INSTANCE_DATA]([c_text_instance_id] ASC);\n",
    "CREATE INDEX [TEXT_INSTANCE_DATA_c_textid]\n",
    "ON [TEXT_INSTANCE_DATA]([c_textid] ASC);\n",
    "CREATE INDEX [TEXT_INSTANCE_DATA_TEXT_INSTANCE_COUNTRY]\n",
    "ON [TEXT_INSTANCE_DATA]([c_pub_country] ASC);\n",
    "CREATE INDEX [TEXT_INSTANCE_DATA_TEXT_INSTANCE_PUB_DYNASTY]\n",
    "ON [TEXT_INSTANCE_DATA]([c_pub_dy] ASC);\n",
    "CREATE INDEX [TEXT_INSTANCE_DATA_TEXT_INSTANCE_PUB_NIANHAO]\n",
    "ON [TEXT_INSTANCE_DATA]([c_pub_nh_code] ASC);\n",
    "CREATE INDEX [TEXT_INSTANCE_DATA_TEXT_INSTANCE_PUB_RANGE]\n",
    "ON [TEXT_INSTANCE_DATA]([c_pub_range_code] ASC);\n",
    "CREATE INDEX [TEXT_INSTANCE_DATA_TEXT_INSTANCE_SOURCE_ID]\n",
    "ON [TEXT_INSTANCE_DATA]([c_source] ASC);\n",
    "CREATE INDEX [TEXT_INSTANCE_DATA_TEXT_INSTANCE_TEXT_ID]\n",
    "ON [TEXT_INSTANCE_DATA]([c_textid] ASC);"
   ]
  },
  {
   "cell_type": "markdown",
   "id": "96c17893-3dca-4c76-ad3b-0dbd7d63121b",
   "metadata": {
    "jp-MarkdownHeadingCollapsed": true
   },
   "source": [
    "## TEXT_ROLE_CODES"
   ]
  },
  {
   "cell_type": "markdown",
   "id": "5977bba9-5f02-4cd5-a005-aed46b2d8f19",
   "metadata": {},
   "source": [
    "### attr"
   ]
  },
  {
   "cell_type": "markdown",
   "id": "61d8b0c8-2af5-4005-bae3-73650d00b6cd",
   "metadata": {},
   "source": [
    "  [c_role_id] INTEGER,\n",
    "  [c_role_desc] CHAR(255),\n",
    "  [c_role_desc_chn] CHAR(255));\n"
   ]
  },
  {
   "cell_type": "markdown",
   "id": "a41eebc3-4804-4c9d-8977-5067be0e47bc",
   "metadata": {},
   "source": [
    "### index"
   ]
  },
  {
   "cell_type": "markdown",
   "id": "7600c80c-1b0e-4f9e-bd82-2529dd5198b6",
   "metadata": {},
   "source": [
    "CREATE INDEX [TEXT_ROLE_CODES_PrimaryKey] ON [TEXT_ROLE_CODES]([c_role_id] ASC);\n",
    "CREATE INDEX [TEXT_ROLE_CODES_c_role_id] ON [TEXT_ROLE_CODES]([c_role_id] ASC);"
   ]
  },
  {
   "cell_type": "markdown",
   "id": "aaecf453-8988-4702-a53f-be75028e55e4",
   "metadata": {
    "jp-MarkdownHeadingCollapsed": true
   },
   "source": [
    "## TEXT_TYPE"
   ]
  },
  {
   "cell_type": "markdown",
   "id": "dfb5b695-7cc9-444b-b180-f36dbcb8c5ec",
   "metadata": {},
   "source": [
    "### attr"
   ]
  },
  {
   "cell_type": "markdown",
   "id": "8b90f2ee-d8e3-47cd-acc6-2fb4d1212f3b",
   "metadata": {},
   "source": [
    "  [c_text_type_code] CHAR(255),\n",
    "  [c_text_type_desc] CHAR(255),\n",
    "  [c_text_type_desc_chn] CHAR(255),\n",
    "  [c_text_type_parent_id] CHAR(255),\n",
    "  [c_text_type_level] INTEGER,\n",
    "  [c_text_type_sortorder] INTEGER);\n"
   ]
  },
  {
   "cell_type": "markdown",
   "id": "b7239334-ba11-4fa4-871c-86e2e4fb9c42",
   "metadata": {},
   "source": [
    "### index"
   ]
  },
  {
   "cell_type": "markdown",
   "id": "34cd21a6-3545-409b-a25a-52740a2d8a17",
   "metadata": {},
   "source": [
    "CREATE INDEX [TEXT_TYPE_c_text_type_code] ON [TEXT_TYPE]([c_text_type_code] ASC);\n",
    "CREATE INDEX [TEXT_TYPE_c_text_type_parent_id]\n",
    "ON [TEXT_TYPE]([c_text_type_parent_id] ASC);"
   ]
  },
  {
   "cell_type": "markdown",
   "id": "4db6facc-ad90-4fb1-8e3a-5cbd8b126c9b",
   "metadata": {
    "jp-MarkdownHeadingCollapsed": true
   },
   "source": [
    "## TMP_INDEX_YEAR"
   ]
  },
  {
   "cell_type": "markdown",
   "id": "b299e8c8-db6a-447f-95f7-ffcddf4ba5ae",
   "metadata": {},
   "source": [
    "### attr"
   ]
  },
  {
   "cell_type": "markdown",
   "id": "4b4b5557-e9a6-4e6f-a21a-41d962e0b53a",
   "metadata": {},
   "source": [
    "  [c_personid] INTEGER NOT NULL,\n",
    "  [c_index_year] INTEGER,\n",
    "  [c_index_year_source_id] INTEGER);\n"
   ]
  },
  {
   "cell_type": "markdown",
   "id": "c98c1ab4-9c7e-445c-a9aa-68109d595fff",
   "metadata": {},
   "source": [
    "### index"
   ]
  },
  {
   "cell_type": "markdown",
   "id": "bd6dfa50-4d0a-4ea3-8e62-c604a291bc95",
   "metadata": {},
   "source": [
    "CREATE INDEX [TMP_INDEX_YEAR_PrimaryKey] ON [TMP_INDEX_YEAR]([c_personid] ASC);\n",
    "CREATE INDEX [TMP_INDEX_YEAR_c_index_year_source_id]\n",
    "ON [TMP_INDEX_YEAR]([c_index_year_source_id] ASC);\n",
    "CREATE INDEX [TMP_INDEX_YEAR_c_personid] ON [TMP_INDEX_YEAR]([c_personid] ASC);"
   ]
  },
  {
   "cell_type": "markdown",
   "id": "d483a306-ca3e-4c8f-a412-9dd6fa804a3f",
   "metadata": {
    "jp-MarkdownHeadingCollapsed": true
   },
   "source": [
    "## TablesFields"
   ]
  },
  {
   "cell_type": "markdown",
   "id": "6df2e280-10f7-47a5-8090-f2e727ff6a77",
   "metadata": {},
   "source": [
    "### attr"
   ]
  },
  {
   "cell_type": "markdown",
   "id": "236b775e-1edf-4edc-b61e-cbb93e994efc",
   "metadata": {},
   "source": [
    "  [RowNum] INTEGER,\n",
    "  [DumpTblNm] CHAR(255),\n",
    "  [DumpFldNm] CHAR(255),\n",
    "  [AccessTblNm] CHAR(255),\n",
    "  [AccessFldNm] CHAR(255),\n",
    "  [IndexOnField] CHAR(255),\n",
    "  [DataFormat] CHAR(255),\n",
    "  [NULL_allowed] BOOLEAN(2) NOT NULL,\n",
    "  [ForeignKey] CHAR(255),\n",
    "  [ForeignKeyBaseField] CHAR(255));\n"
   ]
  },
  {
   "cell_type": "markdown",
   "id": "477a4695-84ec-4a4e-9a9f-b8827e77a1b1",
   "metadata": {},
   "source": [
    "### index"
   ]
  },
  {
   "cell_type": "markdown",
   "id": "5e57df62-ff4b-49c9-bdc4-cd2964684d72",
   "metadata": {},
   "source": [
    "CREATE INDEX [TablesFields_PrimaryKey]\n",
    "ON [TablesFields](\n",
    "  [AccessTblNm] ASC,\n",
    "  [AccessFldNm] ASC);\n",
    "CREATE INDEX [TablesFields_ForeignKey] ON [TablesFields]([ForeignKey] ASC);\n",
    "CREATE INDEX [TablesFields_RowNum] ON [TablesFields]([RowNum] ASC);"
   ]
  },
  {
   "cell_type": "markdown",
   "id": "bd18a11c-9a25-4581-8cca-4c135433608c",
   "metadata": {
    "jp-MarkdownHeadingCollapsed": true
   },
   "source": [
    "## TablesFieldsChanges"
   ]
  },
  {
   "cell_type": "markdown",
   "id": "acc8ab92-065b-4c40-a6e8-b8f889dc4ff4",
   "metadata": {},
   "source": [
    "### attr"
   ]
  },
  {
   "cell_type": "markdown",
   "id": "d90a33d0-599a-4375-a1e7-5c92c3447da8",
   "metadata": {},
   "source": [
    "  [TableName] CHAR(255),\n",
    "  [FieldName] CHAR(255),\n",
    "  [Change] CHAR(255),\n",
    "  [ChangeDate] CHAR(255),\n",
    "  [ChangeNotes] CHAR(255));\n"
   ]
  },
  {
   "cell_type": "markdown",
   "id": "55629033-df58-4ed6-8ff4-a23a5143d006",
   "metadata": {},
   "source": [
    "### index"
   ]
  },
  {
   "cell_type": "markdown",
   "id": "90ca1f61-438e-476e-8f43-88894f7c08b7",
   "metadata": {},
   "source": [
    "CREATE INDEX [TablesFieldsChanges_Change]\n",
    "ON [TablesFieldsChanges](\n",
    "  [TableName] ASC,\n",
    "  [FieldName] ASC,\n",
    "  [Change] ASC);"
   ]
  },
  {
   "cell_type": "markdown",
   "id": "74b61525-19a1-4d2c-bd39-8c117d902157",
   "metadata": {
    "jp-MarkdownHeadingCollapsed": true
   },
   "source": [
    "## YEAR_RANGE_CODES"
   ]
  },
  {
   "cell_type": "markdown",
   "id": "f4d13f83-01af-4a31-8db3-169ca376d2fa",
   "metadata": {},
   "source": [
    "### attr"
   ]
  },
  {
   "cell_type": "markdown",
   "id": "df0230b2-b8ea-4aa7-8f65-e83b09fbf88c",
   "metadata": {},
   "source": [
    "  [c_range_code] INTEGER,\n",
    "  [c_range] CHAR(50),\n",
    "  [c_range_chn] CHAR(50),\n",
    "  [c_approx] CHAR(50),\n",
    "  [c_approx_chn] CHAR(50));\n"
   ]
  },
  {
   "cell_type": "markdown",
   "id": "7e4ab1e2-a0d2-4306-aa8c-d5d55cc34c8b",
   "metadata": {},
   "source": [
    "### index"
   ]
  },
  {
   "cell_type": "markdown",
   "id": "fc1720f1-0e74-41ca-a5db-c286e352d12a",
   "metadata": {},
   "source": [
    "CREATE INDEX [YEAR_RANGE_CODES_PrimaryKey]\n",
    "ON [YEAR_RANGE_CODES]([c_range_code] ASC);\n",
    "CREATE INDEX [YEAR_RANGE_CODES_c_range_code]\n",
    "ON [YEAR_RANGE_CODES]([c_range_code] ASC);"
   ]
  }
 ],
 "metadata": {
  "kernelspec": {
   "display_name": "Python 3 (ipykernel)",
   "language": "python",
   "name": "python3"
  },
  "language_info": {
   "codemirror_mode": {
    "name": "ipython",
    "version": 3
   },
   "file_extension": ".py",
   "mimetype": "text/x-python",
   "name": "python",
   "nbconvert_exporter": "python",
   "pygments_lexer": "ipython3",
   "version": "3.9.19"
  }
 },
 "nbformat": 4,
 "nbformat_minor": 5
}
